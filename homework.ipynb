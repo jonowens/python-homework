{
 "metadata": {
  "language_info": {
   "codemirror_mode": {
    "name": "ipython",
    "version": 3
   },
   "file_extension": ".py",
   "mimetype": "text/x-python",
   "name": "python",
   "nbconvert_exporter": "python",
   "pygments_lexer": "ipython3",
   "version": 3
  },
  "orig_nbformat": 2
 },
 "nbformat": 4,
 "nbformat_minor": 2,
 "cells": [
  {
   "cell_type": "code",
   "execution_count": null,
   "metadata": {},
   "outputs": [],
   "source": [
    "previous_day_data = 0\n",
    "next(numbers)\n",
    "initial_step_in = 1\n",
    "\n",
    "for num in numbers:\n",
    "    if previous_day_data != num or initial_step_in == 1:\n",
    "        # do something\n",
    "    \n",
    "    previous_day_data = num\n",
    "    initial_step_in = 2"
   ]
  }
 ]
}