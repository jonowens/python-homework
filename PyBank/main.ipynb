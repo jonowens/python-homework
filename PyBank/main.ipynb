{
 "metadata": {
  "language_info": {
   "codemirror_mode": {
    "name": "ipython",
    "version": 3
   },
   "file_extension": ".py",
   "mimetype": "text/x-python",
   "name": "python",
   "nbconvert_exporter": "python",
   "pygments_lexer": "ipython3",
   "version": "3.8.3-final"
  },
  "orig_nbformat": 2,
  "kernelspec": {
   "name": "python_defaultSpec_1600663189292",
   "display_name": "Python 3.8.3 64-bit ('base': conda)"
  }
 },
 "nbformat": 4,
 "nbformat_minor": 2,
 "cells": [
  {
   "cell_type": "code",
   "execution_count": 1,
   "metadata": {},
   "outputs": [],
   "source": [
    "# Import necessary libraries\n",
    "from pathlib import Path\n",
    "import csv"
   ]
  },
  {
   "cell_type": "code",
   "execution_count": 2,
   "metadata": {
    "tags": []
   },
   "outputs": [],
   "source": [
    "# Instantiate data structure to store information from csv\n",
    "budget = []\n",
    "line_number = 0\n"
   ]
  },
  {
   "cell_type": "code",
   "execution_count": 3,
   "metadata": {
    "tags": []
   },
   "outputs": [],
   "source": [
    "# Capture file path to be read\n",
    "csvpath = Path(\"./Resources/budget_data.csv\")\n",
    "\n",
    "# Open data in specified path as csv_file \n",
    "with open(csvpath, 'r') as csv_file:\n",
    "\n",
    "    # Read data from csv_file knowing the data is ',' delimited and assign to csvreader variable\n",
    "    csvreader = csv.reader(csv_file, delimiter=',')\n",
    "\n",
    "    # Store data header\n",
    "    header = next(csvreader)\n",
    "    \n",
    "    # Store current line number to begin reading data\n",
    "    line_number += 1\n",
    "\n",
    "    # Iterate through each line of csvreader\n",
    "    for row in csvreader:\n",
    "        # Assign each row to dictionary structure\n",
    "        first_item = row[0]\n",
    "        second_item = int(row[1])\n",
    "        # Assign dictionary data items to budget list\n",
    "        budget.append({'Date': first_item, 'PnL': second_item})\n"
   ]
  },
  {
   "cell_type": "code",
   "execution_count": 4,
   "metadata": {},
   "outputs": [],
   "source": [
    "# Instatiate metric variables\n",
    "number_of_months = 0\n",
    "net_total_amount_of_profits_and_losses = 0\n",
    "change_in_profits_and_losses_list = []\n",
    "average_of_profit_and_losses = 0\n",
    "greatest_increase_of_profits_dictionary = {}\n",
    "greatest_decrease_of_losses_dictionary = {}\n",
    "number_of_profits_and_losses = 0\n",
    "net_total_amount_of_profits_and_losses = 0\n",
    "total_sum_of_profit_and_loss_changes = 0\n"
   ]
  },
  {
   "cell_type": "code",
   "execution_count": 5,
   "metadata": {
    "tags": []
   },
   "outputs": [],
   "source": [
    "# The total number of months included in the dataset.\n",
    "number_of_months_in_budget = len(budget)\n"
   ]
  },
  {
   "cell_type": "code",
   "execution_count": 6,
   "metadata": {
    "tags": []
   },
   "outputs": [],
   "source": [
    "# The net total amount of Profit/Losses over the entire period.\n",
    "# To track the next month count\n",
    "next_month_index = 1\n",
    "\n",
    "# Loop through budget list for each item to build change in profit and loss list\n",
    "for item in budget:\n",
    "    \n",
    "    #Determine if there is a next month variable available to compare with current month data\n",
    "    if next_month_index < len(budget):\n",
    "    \n",
    "        # Calculate profit or lose from current month to next month\n",
    "\n",
    "        change = budget[next_month_index][\"PnL\"] - item[\"PnL\"]\n",
    "        # Assign profit or loss change to list {'Date': first_item, 'PnL': second_item}\n",
    "        change_in_profits_and_losses_list.append({'Date': budget[next_month_index][\"Date\"], 'PnL': change})\n",
    "\n",
    "        # Increment count to track next month place holder\n",
    "        next_month_index += 1\n",
    "    \n",
    "    # Assign current item profit and loss value\n",
    "    pnl_raw =  item['PnL']\n",
    "\n",
    "    # Accumulate total of all \n",
    "    net_total_amount_of_profits_and_losses += pnl_raw\n"
   ]
  },
  {
   "cell_type": "code",
   "execution_count": 7,
   "metadata": {
    "tags": []
   },
   "outputs": [],
   "source": [
    "# The average of the changes in Profit/Losses over the entire period.\n",
    "# Number of profits and losses\n",
    "number_of_profits_and_losses = len(change_in_profits_and_losses_list)\n",
    "\n",
    "for a_change_of_profits_and_losses in change_in_profits_and_losses_list:\n",
    "    total_sum_of_profit_and_loss_changes += a_change_of_profits_and_losses['PnL']\n",
    "\n",
    "# Calculate the average of profits and losses\n",
    "average_of_profit_and_losses = total_sum_of_profit_and_loss_changes / number_of_profits_and_losses\n",
    "\n",
    "average_of_profit_and_losses = round(average_of_profit_and_losses, 2)\n"
   ]
  },
  {
   "cell_type": "code",
   "execution_count": 8,
   "metadata": {
    "tags": []
   },
   "outputs": [],
   "source": [
    "# Determine the greatest increase in profits (date and amount) over the entire period.\n",
    "\n",
    "# Value to assign initial greatest increase in profits\n",
    "initial_assignment_of_profits = 0\n",
    "\n",
    "# Loop through list of profits and losses\n",
    "for a_change_in_profits_and_losses_item in change_in_profits_and_losses_list:\n",
    "    \n",
    "    # Assignment of initial value to greatest increase from list\n",
    "    if initial_assignment_of_profits == 0:\n",
    "\n",
    "        # Assignment of dictionary values to variables\n",
    "        date_value = a_change_in_profits_and_losses_item[\"Date\"]\n",
    "        pnl_value = a_change_in_profits_and_losses_item[\"PnL\"]\n",
    "\n",
    "        # Assignment of values as the greatest increase in profits dictionary\n",
    "        greatest_increase_of_profits_dictionary[\"Date\"] = date_value\n",
    "        greatest_increase_of_profits_dictionary[\"PnL\"] = pnl_value\n",
    "\n",
    "        # Initial assignment of greatest increase in profits is complete and no longer needs to be performed\n",
    "        initial_assignment_of_profits = 1\n",
    "\n",
    "    # Compare one profit or loss value to next value\n",
    "    if greatest_increase_of_profits_dictionary[\"PnL\"] < a_change_in_profits_and_losses_item[\"PnL\"]:\n",
    "        \n",
    "        # Assign profits and losses current item value and date to greatest increase of profits dictionary\n",
    "        greatest_increase_of_profits_dictionary[\"Date\"] = a_change_in_profits_and_losses_item[\"Date\"]\n",
    "        greatest_increase_of_profits_dictionary[\"PnL\"] = a_change_in_profits_and_losses_item[\"PnL\"]\n"
   ]
  },
  {
   "cell_type": "code",
   "execution_count": 9,
   "metadata": {
    "tags": []
   },
   "outputs": [],
   "source": [
    "# Determine the greatest decrease in losses (date and amount) over the entire period.\n",
    "\n",
    "# Value to assign initial greatest decrease in losses\n",
    "initial_assignment_of_losses = 0\n",
    "\n",
    "# Loop through list of profits and losses\n",
    "for a_change_in_profits_and_losses_item in change_in_profits_and_losses_list:\n",
    "    \n",
    "    # Assignment of initial value to greatest decrease from list\n",
    "    if initial_assignment_of_losses == 0:\n",
    "\n",
    "        # Assignment of dictionary values to variables\n",
    "        date_value = a_change_in_profits_and_losses_item[\"Date\"]\n",
    "        pnl_value = a_change_in_profits_and_losses_item[\"PnL\"]\n",
    "\n",
    "        # Assignment of values as the greatest decrease in losses dictionary\n",
    "        greatest_decrease_of_losses_dictionary[\"Date\"] = date_value\n",
    "        greatest_decrease_of_losses_dictionary[\"PnL\"] = pnl_value\n",
    "        \n",
    "        # Initial assignment of greatest decrease in losses is incremented and is no longer needed in future loops\n",
    "        initial_assignment_of_losses = 1\n",
    "\n",
    "    # Compare one profit or loss value to next value\n",
    "    if greatest_decrease_of_losses_dictionary[\"PnL\"] > a_change_in_profits_and_losses_item[\"PnL\"]:\n",
    "        \n",
    "        # Assign profits and losses current item value and date to greatest decrease of losses dictionary\n",
    "        greatest_decrease_of_losses_dictionary[\"Date\"] = a_change_in_profits_and_losses_item[\"Date\"]\n",
    "        greatest_decrease_of_losses_dictionary[\"PnL\"] = a_change_in_profits_and_losses_item[\"PnL\"]\n"
   ]
  },
  {
   "cell_type": "code",
   "execution_count": 10,
   "metadata": {
    "tags": []
   },
   "outputs": [],
   "source": [
    "#  Test\n",
    "def summary_output(number_of_months_in_budget, net_total_amount_of_profits_and_losses, average_of_profit_and_losses, greatest_increase_of_profits_dictionary, greatest_decrease_of_losses_dictionary):\n",
    "    # Capture file path to be written\n",
    "    output_path = Path(\"./Output/summary.txt\")\n",
    "\n",
    "    # Open output path \n",
    "    filewriter = open(output_path, 'w+')\n",
    "\n",
    "    # Template to easily make changes to summary output in the future\n",
    "    summary_message = \"\" \n",
    "\n",
    "    summary_message += \"Financial Analysis\\n\"\n",
    "    summary_message += \"----------------------------\\n\"\n",
    "    summary_message += f\"Total Months: {number_of_months_in_budget}\\n\"\n",
    "    summary_message += f\"Total: ${net_total_amount_of_profits_and_losses}\\n\"\n",
    "    summary_message += f\"Average Change: ${average_of_profit_and_losses}\\n\"\n",
    "    summary_message += f\"Greatest Increase in Profits: {greatest_increase_of_profits_dictionary['Date']} (${greatest_increase_of_profits_dictionary['PnL']})\\n\"\n",
    "    summary_message += f\"Greatest Decrease in Profits: {greatest_decrease_of_losses_dictionary['Date']} (${greatest_decrease_of_losses_dictionary['PnL']})\\n\"\n",
    "    print(summary_message)\n",
    "    filewriter.write(summary_message)\n",
    "    filewriter.close()\n"
   ]
  },
  {
   "cell_type": "code",
   "execution_count": 11,
   "metadata": {
    "tags": []
   },
   "outputs": [
    {
     "output_type": "stream",
     "name": "stdout",
     "text": "Financial Analysis\n----------------------------\nTotal Months: 86\nTotal: $38382578\nAverage Change: $-2315.12\nGreatest Increase in Profits: Feb-2012 ($1926159)\nGreatest Decrease in Profits: Sep-2013 ($-2196167)\n\n"
    }
   ],
   "source": [
    "summary_output(number_of_months_in_budget, net_total_amount_of_profits_and_losses, average_of_profit_and_losses, greatest_increase_of_profits_dictionary, greatest_decrease_of_losses_dictionary)"
   ]
  },
  {
   "cell_type": "code",
   "execution_count": null,
   "metadata": {},
   "outputs": [],
   "source": []
  }
 ]
}