{
 "metadata": {
  "language_info": {
   "codemirror_mode": {
    "name": "ipython",
    "version": 3
   },
   "file_extension": ".py",
   "mimetype": "text/x-python",
   "name": "python",
   "nbconvert_exporter": "python",
   "pygments_lexer": "ipython3",
   "version": "3.8.5-final"
  },
  "orig_nbformat": 2,
  "kernelspec": {
   "name": "Python 3.8.5 64-bit ('base': conda)",
   "display_name": "Python 3.8.5 64-bit ('base': conda)",
   "metadata": {
    "interpreter": {
     "hash": "600c25c12856a842ab64bd468beca1647a20977f2accb2696f130eafa2c53eb8"
    }
   }
  }
 },
 "nbformat": 4,
 "nbformat_minor": 2,
 "cells": [
  {
   "cell_type": "code",
   "execution_count": 1,
   "metadata": {},
   "outputs": [],
   "source": [
    "# -*- coding: utf-8 -*-"
   ]
  },
  {
   "source": [
    "# PyBank Budget Assistance\n",
    "\n",
    "### Description: \n",
    "* The following task is to help PyBank analyze their financial information.  A budget_data.csv file\n",
    "has been provided with two sets of data: Date and Profit/Loss for the given month.  The following code \n",
    "below will analyze and calculate various metrics along with providing an output of the analysis to the screen and a summary.txt file found in the Resources directory of the repository.\n"
   ],
   "cell_type": "markdown",
   "metadata": {}
  },
  {
   "cell_type": "code",
   "execution_count": 2,
   "metadata": {},
   "outputs": [],
   "source": [
    "# Import necessary libraries\n",
    "from pathlib import Path\n",
    "import csv\n",
    "import myfunctions as myfunc\n"
   ]
  },
  {
   "cell_type": "code",
   "execution_count": 3,
   "metadata": {
    "tags": []
   },
   "outputs": [],
   "source": [
    "# Initialize data structure to store information from csv\n",
    "budget = []\n",
    "# Initialize metric variables\n",
    "number_of_months = 0\n",
    "net_total_amount_of_profits_and_losses = 0\n",
    "change_in_profits_and_losses_list = []\n",
    "average_of_profit_and_losses = 0\n",
    "greatest_increase_of_profits_dictionary = {}\n",
    "greatest_increase_date = \"\"\n",
    "greatest_increase_value = 0\n",
    "greatest_decrease_of_losses_dictionary = {}\n",
    "greatest_decrease_date = \"\"\n",
    "greatest_decrease_value = 0\n",
    "number_of_profits_and_losses = 0\n",
    "net_total_amount_of_profits_and_losses = 0\n",
    "total_sum_of_profit_and_loss_changes = 0\n"
   ]
  },
  {
   "cell_type": "code",
   "execution_count": 4,
   "metadata": {
    "tags": []
   },
   "outputs": [
    {
     "output_type": "stream",
     "name": "stdout",
     "text": "[{'Date': 'Jan-2010', 'Profit/Losses': '867884'}, {'Date': 'Feb-2010', 'Profit/Losses': '984655'}, {'Date': 'Mar-2010', 'Profit/Losses': '322013'}, {'Date': 'Apr-2010', 'Profit/Losses': '-69417'}, {'Date': 'May-2010', 'Profit/Losses': '310503'}, {'Date': 'Jun-2010', 'Profit/Losses': '522857'}, {'Date': 'Jul-2010', 'Profit/Losses': '1033096'}, {'Date': 'Aug-2010', 'Profit/Losses': '604885'}, {'Date': 'Sep-2010', 'Profit/Losses': '-216386'}, {'Date': 'Oct-2010', 'Profit/Losses': '477532'}, {'Date': 'Nov-2010', 'Profit/Losses': '893810'}, {'Date': 'Dec-2010', 'Profit/Losses': '-80353'}, {'Date': 'Jan-2011', 'Profit/Losses': '779806'}, {'Date': 'Feb-2011', 'Profit/Losses': '-335203'}, {'Date': 'Mar-2011', 'Profit/Losses': '697845'}, {'Date': 'Apr-2011', 'Profit/Losses': '793163'}, {'Date': 'May-2011', 'Profit/Losses': '485070'}, {'Date': 'Jun-2011', 'Profit/Losses': '584122'}, {'Date': 'Jul-2011', 'Profit/Losses': '62729'}, {'Date': 'Aug-2011', 'Profit/Losses': '668179'}, {'Date': 'Sep-2011', 'Profit/Losses': '899906'}, {'Date': 'Oct-2011', 'Profit/Losses': '834719'}, {'Date': 'Nov-2011', 'Profit/Losses': '132003'}, {'Date': 'Dec-2011', 'Profit/Losses': '309978'}, {'Date': 'Jan-2012', 'Profit/Losses': '-755566'}, {'Date': 'Feb-2012', 'Profit/Losses': '1170593'}, {'Date': 'Mar-2012', 'Profit/Losses': '252788'}, {'Date': 'Apr-2012', 'Profit/Losses': '1151518'}, {'Date': 'May-2012', 'Profit/Losses': '817256'}, {'Date': 'Jun-2012', 'Profit/Losses': '570757'}, {'Date': 'Jul-2012', 'Profit/Losses': '506702'}, {'Date': 'Aug-2012', 'Profit/Losses': '-1022534'}, {'Date': 'Sep-2012', 'Profit/Losses': '475062'}, {'Date': 'Oct-2012', 'Profit/Losses': '779976'}, {'Date': 'Nov-2012', 'Profit/Losses': '144175'}, {'Date': 'Dec-2012', 'Profit/Losses': '542494'}, {'Date': 'Jan-2013', 'Profit/Losses': '359333'}, {'Date': 'Feb-2013', 'Profit/Losses': '321469'}, {'Date': 'Mar-2013', 'Profit/Losses': '67780'}, {'Date': 'Apr-2013', 'Profit/Losses': '471435'}, {'Date': 'May-2013', 'Profit/Losses': '565603'}, {'Date': 'Jun-2013', 'Profit/Losses': '872480'}, {'Date': 'Jul-2013', 'Profit/Losses': '789480'}, {'Date': 'Aug-2013', 'Profit/Losses': '999942'}, {'Date': 'Sep-2013', 'Profit/Losses': '-1196225'}, {'Date': 'Oct-2013', 'Profit/Losses': '268997'}, {'Date': 'Nov-2013', 'Profit/Losses': '-687986'}, {'Date': 'Dec-2013', 'Profit/Losses': '1150461'}, {'Date': 'Jan-2014', 'Profit/Losses': '682458'}, {'Date': 'Feb-2014', 'Profit/Losses': '617856'}, {'Date': 'Mar-2014', 'Profit/Losses': '824098'}, {'Date': 'Apr-2014', 'Profit/Losses': '581943'}, {'Date': 'May-2014', 'Profit/Losses': '132864'}, {'Date': 'Jun-2014', 'Profit/Losses': '448062'}, {'Date': 'Jul-2014', 'Profit/Losses': '689161'}, {'Date': 'Aug-2014', 'Profit/Losses': '800701'}, {'Date': 'Sep-2014', 'Profit/Losses': '1166643'}, {'Date': 'Oct-2014', 'Profit/Losses': '947333'}, {'Date': 'Nov-2014', 'Profit/Losses': '578668'}, {'Date': 'Dec-2014', 'Profit/Losses': '988505'}, {'Date': 'Jan-2015', 'Profit/Losses': '1139715'}, {'Date': 'Feb-2015', 'Profit/Losses': '1029471'}, {'Date': 'Mar-2015', 'Profit/Losses': '687533'}, {'Date': 'Apr-2015', 'Profit/Losses': '-524626'}, {'Date': 'May-2015', 'Profit/Losses': '158620'}, {'Date': 'Jun-2015', 'Profit/Losses': '87795'}, {'Date': 'Jul-2015', 'Profit/Losses': '423389'}, {'Date': 'Aug-2015', 'Profit/Losses': '840723'}, {'Date': 'Sep-2015', 'Profit/Losses': '568529'}, {'Date': 'Oct-2015', 'Profit/Losses': '332067'}, {'Date': 'Nov-2015', 'Profit/Losses': '989499'}, {'Date': 'Dec-2015', 'Profit/Losses': '778237'}, {'Date': 'Jan-2016', 'Profit/Losses': '650000'}, {'Date': 'Feb-2016', 'Profit/Losses': '-1100387'}, {'Date': 'Mar-2016', 'Profit/Losses': '-174946'}, {'Date': 'Apr-2016', 'Profit/Losses': '757143'}, {'Date': 'May-2016', 'Profit/Losses': '445709'}, {'Date': 'Jun-2016', 'Profit/Losses': '712961'}, {'Date': 'Jul-2016', 'Profit/Losses': '-1163797'}, {'Date': 'Aug-2016', 'Profit/Losses': '569899'}, {'Date': 'Sep-2016', 'Profit/Losses': '768450'}, {'Date': 'Oct-2016', 'Profit/Losses': '102685'}, {'Date': 'Nov-2016', 'Profit/Losses': '795914'}, {'Date': 'Dec-2016', 'Profit/Losses': '60988'}, {'Date': 'Jan-2017', 'Profit/Losses': '138230'}, {'Date': 'Feb-2017', 'Profit/Losses': '671099'}]\n"
    }
   ],
   "source": [
    "# budget = myfunc.import_csv_data(\"budget_data.csv\", \",\")\n",
    "budget = myfunc.read_in_data(\"budget_data.csv\", \",\", \"yes\")\n",
    "print(budget)"
   ]
  },
  {
   "cell_type": "code",
   "execution_count": 5,
   "metadata": {
    "tags": []
   },
   "outputs": [],
   "source": [
    "# The total number of months included in the dataset.\n",
    "number_of_months_in_budget = len(budget)\n"
   ]
  },
  {
   "cell_type": "code",
   "execution_count": 10,
   "metadata": {
    "tags": []
   },
   "outputs": [
    {
     "output_type": "error",
     "ename": "TypeError",
     "evalue": "unsupported operand type(s) for -: 'str' and 'str'",
     "traceback": [
      "\u001b[1;31m---------------------------------------------------------------------------\u001b[0m",
      "\u001b[1;31mTypeError\u001b[0m                                 Traceback (most recent call last)",
      "\u001b[1;32m<ipython-input-10-7d37f89b3090>\u001b[0m in \u001b[0;36m<module>\u001b[1;34m\u001b[0m\n\u001b[0;32m     11\u001b[0m \u001b[1;33m\u001b[0m\u001b[0m\n\u001b[0;32m     12\u001b[0m         \u001b[1;31m# Calculate profit or lose from current month to next month\u001b[0m\u001b[1;33m\u001b[0m\u001b[1;33m\u001b[0m\u001b[1;33m\u001b[0m\u001b[0m\n\u001b[1;32m---> 13\u001b[1;33m         \u001b[0mchange_value\u001b[0m \u001b[1;33m=\u001b[0m \u001b[0mbudget\u001b[0m\u001b[1;33m[\u001b[0m\u001b[0mnext_month_index\u001b[0m\u001b[1;33m]\u001b[0m\u001b[1;33m[\u001b[0m\u001b[1;34m\"Profit/Losses\"\u001b[0m\u001b[1;33m]\u001b[0m \u001b[1;33m-\u001b[0m \u001b[0mitem\u001b[0m\u001b[1;33m[\u001b[0m\u001b[1;34m\"Profit/Losses\"\u001b[0m\u001b[1;33m]\u001b[0m\u001b[1;33m\u001b[0m\u001b[1;33m\u001b[0m\u001b[0m\n\u001b[0m\u001b[0;32m     14\u001b[0m \u001b[1;33m\u001b[0m\u001b[0m\n\u001b[0;32m     15\u001b[0m         \u001b[1;31m# Assign profit or loss change to list of dictionaries using 'date' and 'pnl' indicies\u001b[0m\u001b[1;33m\u001b[0m\u001b[1;33m\u001b[0m\u001b[1;33m\u001b[0m\u001b[0m\n",
      "\u001b[1;31mTypeError\u001b[0m: unsupported operand type(s) for -: 'str' and 'str'"
     ]
    }
   ],
   "source": [
    "# The net total amount of Profit/Losses over the entire period.\n",
    "\n",
    "# To track the next month count\n",
    "next_month_index = 1\n",
    "\n",
    "# Loop through budget list to build change of profit and loss list\n",
    "for item in budget:\n",
    "    \n",
    "    #Determine if there is a next month variable available to compare with current month data\n",
    "    if next_month_index < len(budget):\n",
    "    \n",
    "        # Calculate profit or lose from current month to next month\n",
    "        change_value = int(budget[next_month_index][\"Profit/Losses\"]) - int(item[\"Profit/Losses\"])\n",
    "\n",
    "        # Assign profit or loss change to list of dictionaries using 'date' and 'pnl' indicies\n",
    "        change_in_profits_and_losses_list.append({'Date': budget[next_month_index][\"Date\"], 'Profit/Losses': change_value})\n",
    "\n",
    "        # Increment count to track next month place holder\n",
    "        next_month_index += 1\n",
    "\n",
    "# Add and accumulate a total of all profit and losses\n",
    "net_total_amount_of_profits_and_losses = myfunc.calculate_sum(budget, \"Profit/Losses\")\n"
   ]
  },
  {
   "cell_type": "code",
   "execution_count": null,
   "metadata": {
    "tags": []
   },
   "outputs": [],
   "source": [
    "# The average of the changes in Profit/Losses over the entire period.\n",
    "\n",
    "# Number of profits and losses\n",
    "number_of_profits_and_losses = len(change_in_profits_and_losses_list)\n",
    "\n",
    "# Add and accumulate a total running sum of profit and loss changes\n",
    "total_sum_of_profit_and_loss_changes = myfunc.calculate_sum(change_in_profits_and_losses_list, \"Profit/Losses\")\n",
    "\n",
    "# Calculate the average of profits and losses\n",
    "average_of_profit_and_losses = total_sum_of_profit_and_loss_changes / number_of_profits_and_losses\n",
    "\n",
    "# Round the average of profit and losses to two places after the decimal and reassign value\n",
    "average_of_profit_and_losses = round(average_of_profit_and_losses, 2)\n"
   ]
  },
  {
   "cell_type": "code",
   "execution_count": null,
   "metadata": {
    "tags": []
   },
   "outputs": [],
   "source": [
    "# Determines the greatest increase in profits (date and amount) over the entire period and assigns the return values\n",
    "greatest_increase_of_profits_dictionary = myfunc.greatest_increase_or_decrease_in_profits(change_in_profits_and_losses_list, \"increase\", \"Date\", \"Profit/Losses\")\n",
    "\n",
    "# Assign greatest increase date and value\n",
    "greatest_increase_date = greatest_increase_of_profits_dictionary['Date']\n",
    "greatest_increase_value = greatest_increase_of_profits_dictionary['Profit/Losses']\n"
   ]
  },
  {
   "cell_type": "code",
   "execution_count": null,
   "metadata": {
    "tags": []
   },
   "outputs": [],
   "source": [
    "# Determine the greatest decrease in losses (date and amount) over the entire period and assigns the return values\n",
    "greatest_decrease_of_losses_dictionary = myfunc.greatest_increase_or_decrease_in_profits(change_in_profits_and_losses_list, \"decrease\", \"Date\", \"Profit/Losses\")\n",
    "\n",
    "# Assign greatest losses date and value\n",
    "greatest_decrease_date = greatest_decrease_of_losses_dictionary['Date']\n",
    "greatest_decrease_value = greatest_decrease_of_losses_dictionary['Profit/Losses']\n"
   ]
  },
  {
   "cell_type": "code",
   "execution_count": null,
   "metadata": {
    "tags": []
   },
   "outputs": [],
   "source": [
    "# Pass metric values into summary_output() and output to screen a summary message along with a summary.txt file\n",
    "myfunc.summary_output(number_of_months_in_budget, net_total_amount_of_profits_and_losses, average_of_profit_and_losses, greatest_increase_date, greatest_increase_value, greatest_decrease_date, greatest_decrease_value)\n"
   ]
  },
  {
   "cell_type": "code",
   "execution_count": null,
   "metadata": {},
   "outputs": [],
   "source": []
  }
 ]
}