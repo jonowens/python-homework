{
 "metadata": {
  "language_info": {
   "codemirror_mode": {
    "name": "ipython",
    "version": 3
   },
   "file_extension": ".py",
   "mimetype": "text/x-python",
   "name": "python",
   "nbconvert_exporter": "python",
   "pygments_lexer": "ipython3",
   "version": "3.8.5-final"
  },
  "orig_nbformat": 2,
  "kernelspec": {
   "name": "Python 3.8.5 64-bit ('base': conda)",
   "display_name": "Python 3.8.5 64-bit ('base': conda)",
   "metadata": {
    "interpreter": {
     "hash": "600c25c12856a842ab64bd468beca1647a20977f2accb2696f130eafa2c53eb8"
    }
   }
  }
 },
 "nbformat": 4,
 "nbformat_minor": 2,
 "cells": [
  {
   "cell_type": "code",
   "execution_count": 24,
   "metadata": {},
   "outputs": [],
   "source": [
    "# -*- coding: utf-8 -*-"
   ]
  },
  {
   "source": [
    "# PyBank Budget Assistance\n",
    "\n",
    "### Description: \n",
    "* The following task is to help PyBank analyze their financial information.  A budget_data.csv file\n",
    "has been provided with two sets of data: Date and Profit/Loss for the given month.  The following code \n",
    "below will analyze and calculate various metrics along with providing an output of the analysis to the screen and a summary.txt file found in the Resources directory of the repository.\n"
   ],
   "cell_type": "markdown",
   "metadata": {}
  },
  {
   "cell_type": "code",
   "execution_count": 25,
   "metadata": {},
   "outputs": [],
   "source": [
    "# Import necessary libraries\n",
    "from pathlib import Path\n",
    "import csv\n",
    "import myfunctions as myfunc\n"
   ]
  },
  {
   "cell_type": "code",
   "execution_count": 26,
   "metadata": {
    "tags": []
   },
   "outputs": [],
   "source": [
    "# Initialize data structure to store information from csv\n",
    "budget = []\n",
    "# Initialize metric variables\n",
    "number_of_months = 0\n",
    "net_total_amount_of_profits_and_losses = 0\n",
    "change_in_profits_and_losses_list = []\n",
    "average_of_profit_and_losses = 0\n",
    "greatest_increase_of_profits_dictionary = {}\n",
    "greatest_increase_date = \"\"\n",
    "greatest_increase_value = 0\n",
    "greatest_decrease_of_losses_dictionary = {}\n",
    "greatest_decrease_date = \"\"\n",
    "greatest_decrease_value = 0\n",
    "number_of_profits_and_losses = 0\n",
    "net_total_amount_of_profits_and_losses = 0\n",
    "total_sum_of_profit_and_loss_changes = 0\n"
   ]
  },
  {
   "cell_type": "code",
   "execution_count": 27,
   "metadata": {
    "tags": []
   },
   "outputs": [],
   "source": [
    "budget = myfunc.import_csv_data(\"budget_data.csv\", \",\")\n"
   ]
  },
  {
   "cell_type": "code",
   "execution_count": 28,
   "metadata": {
    "tags": []
   },
   "outputs": [],
   "source": [
    "# The total number of months included in the dataset.\n",
    "number_of_months_in_budget = len(budget)\n"
   ]
  },
  {
   "cell_type": "code",
   "execution_count": 29,
   "metadata": {
    "tags": []
   },
   "outputs": [],
   "source": [
    "# The net total amount of Profit/Losses over the entire period.\n",
    "\n",
    "# To track the next month count\n",
    "next_month_index = 1\n",
    "\n",
    "# Loop through budget list to build change of profit and loss list\n",
    "for item in budget:\n",
    "    \n",
    "    #Determine if there is a next month variable available to compare with current month data\n",
    "    if next_month_index < len(budget):\n",
    "    \n",
    "        # Calculate profit or lose from current month to next month\n",
    "        change_value = budget[next_month_index][\"Profit/Losses\"] - item[\"Profit/Losses\"]\n",
    "\n",
    "        # Assign profit or loss change to list of dictionaries using 'date' and 'pnl' indicies\n",
    "        change_in_profits_and_losses_list.append({'Date': budget[next_month_index][\"Date\"], 'Profit/Losses': change_value})\n",
    "\n",
    "        # Increment count to track next month place holder\n",
    "        next_month_index += 1\n",
    "\n",
    "# Add and accumulate a total of all profit and losses\n",
    "net_total_amount_of_profits_and_losses = myfunc.calculate_sum(budget, \"Profit/Losses\")\n"
   ]
  },
  {
   "cell_type": "code",
   "execution_count": 30,
   "metadata": {
    "tags": []
   },
   "outputs": [],
   "source": [
    "# The average of the changes in Profit/Losses over the entire period.\n",
    "\n",
    "# Number of profits and losses\n",
    "number_of_profits_and_losses = len(change_in_profits_and_losses_list)\n",
    "\n",
    "# Add and accumulate a total running sum of profit and loss changes\n",
    "total_sum_of_profit_and_loss_changes = myfunc.calculate_sum(change_in_profits_and_losses_list, \"Profit/Losses\")\n",
    "\n",
    "# Calculate the average of profits and losses\n",
    "average_of_profit_and_losses = total_sum_of_profit_and_loss_changes / number_of_profits_and_losses\n",
    "\n",
    "# Round the average of profit and losses to two places after the decimal and reassign value\n",
    "average_of_profit_and_losses = round(average_of_profit_and_losses, 2)\n"
   ]
  },
  {
   "cell_type": "code",
   "execution_count": 31,
   "metadata": {
    "tags": []
   },
   "outputs": [],
   "source": [
    "# Determines the greatest increase in profits (date and amount) over the entire period and assigns the return values\n",
    "greatest_increase_of_profits_dictionary = myfunc.greatest_increase_or_decrease_in_profits(change_in_profits_and_losses_list, \"increase\", \"Date\", \"Profit/Losses\")\n",
    "\n",
    "# Assign greatest increase date and value\n",
    "greatest_increase_date = greatest_increase_of_profits_dictionary['Date']\n",
    "greatest_increase_value = greatest_increase_of_profits_dictionary['Profit/Losses']\n"
   ]
  },
  {
   "cell_type": "code",
   "execution_count": 32,
   "metadata": {
    "tags": []
   },
   "outputs": [],
   "source": [
    "# Determine the greatest decrease in losses (date and amount) over the entire period and assigns the return values\n",
    "greatest_decrease_of_losses_dictionary = myfunc.greatest_increase_or_decrease_in_profits(change_in_profits_and_losses_list, \"decrease\", \"Date\", \"Profit/Losses\")\n",
    "\n",
    "# Assign greatest losses date and value\n",
    "greatest_decrease_date = greatest_decrease_of_losses_dictionary['Date']\n",
    "greatest_decrease_value = greatest_decrease_of_losses_dictionary['Profit/Losses']\n"
   ]
  },
  {
   "cell_type": "code",
   "execution_count": 33,
   "metadata": {
    "tags": []
   },
   "outputs": [
    {
     "output_type": "stream",
     "name": "stdout",
     "text": "Financial Analysis\n----------------------------\nTotal Months: 86\nTotal: $38382578\nAverage Change: $-2315.12\nGreatest Increase in Profits: Feb-2012 ($1926159)\nGreatest Decrease in Profits: Sep-2013 ($-2196167)\n\n"
    }
   ],
   "source": [
    "# Pass metric values into summary_output() and output to screen a summary message along with a summary.txt file\n",
    "myfunc.summary_output(number_of_months_in_budget, net_total_amount_of_profits_and_losses, average_of_profit_and_losses, greatest_increase_date, greatest_increase_value, greatest_decrease_date, greatest_decrease_value)\n"
   ]
  },
  {
   "cell_type": "code",
   "execution_count": null,
   "metadata": {},
   "outputs": [],
   "source": []
  }
 ]
}