{
 "metadata": {
  "language_info": {
   "codemirror_mode": {
    "name": "ipython",
    "version": 3
   },
   "file_extension": ".py",
   "mimetype": "text/x-python",
   "name": "python",
   "nbconvert_exporter": "python",
   "pygments_lexer": "ipython3",
   "version": "3.8.3-final"
  },
  "orig_nbformat": 2,
  "kernelspec": {
   "name": "python_defaultSpec_1600663189292",
   "display_name": "Python 3.8.3 64-bit ('base': conda)"
  }
 },
 "nbformat": 4,
 "nbformat_minor": 2,
 "cells": [
  {
   "cell_type": "code",
   "execution_count": 1,
   "metadata": {},
   "outputs": [],
   "source": [
    "# Import necessary libraries\n",
    "from pathlib import Path\n",
    "import csv"
   ]
  },
  {
   "cell_type": "code",
   "execution_count": 2,
   "metadata": {
    "tags": []
   },
   "outputs": [],
   "source": [
    "# Instantiate data structure to store information from csv\n",
    "budget = []\n",
    "line_number = 0\n"
   ]
  },
  {
   "cell_type": "code",
   "execution_count": 3,
   "metadata": {
    "tags": []
   },
   "outputs": [],
   "source": [
    "# Capture file path to be read\n",
    "csvpath = Path(\"./Resources/budget_data.csv\")\n",
    "\n",
    "# Open data in specified path as csv_file \n",
    "with open(csvpath, 'r') as csv_file:\n",
    "\n",
    "    # Read data from csv_file knowing the data is ',' delimited and assign to csvreader variable\n",
    "    csvreader = csv.reader(csv_file, delimiter=',')\n",
    "\n",
    "    # Store data header\n",
    "    header = next(csvreader)\n",
    "    \n",
    "    # Store current line number to begin reading data\n",
    "    line_number += 1\n",
    "\n",
    "    # Iterate through each line of csvreader\n",
    "    for row in csvreader:\n",
    "        # Assign each row to dictionary structure\n",
    "        first_item = row[0]\n",
    "        second_item = int(row[1])\n",
    "        # Assign dictionary data items to budget list\n",
    "        budget.append({'Date': first_item, 'PnL': second_item})\n"
   ]
  },
  {
   "cell_type": "code",
   "execution_count": 4,
   "metadata": {},
   "outputs": [],
   "source": [
    "# Instatiate metric variables\n",
    "number_of_months = 0\n",
    "net_total_amount_of_profits_and_losses = 0\n",
    "change_in_profits_and_losses_list = []\n",
    "average_of_profit_and_losses = 0\n",
    "greatest_increase_of_profits_dictionary = {}\n",
    "greatest_decrease_of_losses_dictionary = {}\n",
    "number_of_profits_and_losses = 0\n",
    "net_total_amount_of_profits_and_losses = 0\n"
   ]
  },
  {
   "cell_type": "code",
   "execution_count": 5,
   "metadata": {
    "tags": []
   },
   "outputs": [],
   "source": [
    "# The total number of months included in the dataset.\n",
    "number_of_months_in_budget = len(budget)\n"
   ]
  },
  {
   "cell_type": "code",
   "execution_count": 6,
   "metadata": {
    "tags": []
   },
   "outputs": [],
   "source": [
    "# The net total amount of Profit/Losses over the entire period.\n",
    "# To track the next month count\n",
    "next_month_index = 1\n",
    "\n",
    "# Loop through budget list for each item to build change in profit and loss list\n",
    "for item in budget:\n",
    "    \n",
    "    #Determine if there is a next month variable available to compare with current month data\n",
    "    if next_month_index < len(budget):\n",
    "    \n",
    "        # Calculate profit or lose from current month to next month\n",
    "\n",
    "        change = budget[next_month_index][\"PnL\"] - item[\"PnL\"] + 1\n",
    "        print(change)\n",
    "        # Assign profit or loss change to list {'Date': first_item, 'PnL': second_item}\n",
    "        change_in_profits_and_losses_list.append({'Date': budget[next_month_index][\"Date\"], 'PnL': change})\n",
    "\n",
    "        # Increment count to track next month place holder\n",
    "        next_month_index += 1\n",
    "    \n",
    "    # Accumulate total of all \n",
    "    net_total_amount_of_profits_and_losses += change\n",
    "    \n"
   ]
  },
  {
   "cell_type": "code",
   "execution_count": 7,
   "metadata": {
    "tags": []
   },
   "outputs": [],
   "source": [
    "# The average of the changes in Profit/Losses over the entire period.\n",
    "# Number of profits and losses\n",
    "number_of_profits_and_losses = len(change_in_profits_and_losses_list)\n",
    "\n",
    "# Calculate the average of profits and losses\n",
    "average_of_profit_and_losses = net_total_amount_of_profits_and_losses / number_of_profits_and_losses\n"
   ]
  },
  {
   "cell_type": "code",
   "execution_count": 8,
   "metadata": {
    "tags": []
   },
   "outputs": [],
   "source": [
    "# Determine the greatest increase in profits (date and amount) over the entire period.\n",
    "\n",
    "# Value to assign initial greatest increase in profits\n",
    "initial_assignment_of_profits = 0\n",
    "\n",
    "# Loop through list of profits and losses\n",
    "for a_change_in_profits_and_losses_item in change_in_profits_and_losses_list:\n",
    "    \n",
    "    # Assignment of initial value to greatest increase from list\n",
    "    if initial_assignment_of_profits == 0:\n",
    "\n",
    "        # Assignment of dictionary values to variables\n",
    "        date_value = a_change_in_profits_and_losses_item[\"Date\"]\n",
    "        pnl_value = a_change_in_profits_and_losses_item[\"PnL\"]\n",
    "\n",
    "        # Assignment of values as the greatest increase in profits dictionary\n",
    "        greatest_increase_of_profits_dictionary[\"Date\"] = date_value\n",
    "        greatest_increase_of_profits_dictionary[\"PnL\"] = pnl_value\n",
    "\n",
    "        # Initial assignment of greatest increase in profits is complete and no longer needs to be performed\n",
    "        initial_assignment_of_profits = 1\n",
    "\n",
    "    # Compare one profit or loss value to next value\n",
    "    if greatest_increase_of_profits_dictionary[\"PnL\"] < a_change_in_profits_and_losses_item[\"PnL\"]:\n",
    "        \n",
    "        # Assign profits and losses current item value and date to greatest increase of profits dictionary\n",
    "        greatest_increase_of_profits_dictionary[\"Date\"] = a_change_in_profits_and_losses_item[\"Date\"]\n",
    "        greatest_increase_of_profits_dictionary[\"PnL\"] = a_change_in_profits_and_losses_item[\"PnL\"]\n"
   ]
  },
  {
   "cell_type": "code",
   "execution_count": 13,
   "metadata": {
    "tags": []
   },
   "outputs": [
    {
     "output_type": "stream",
     "name": "stdout",
     "text": "Diction: 116772, Item: 116772\nDiction: 116772, Item: -662641\nDictionary was greater.\nDiction: -662641, Item: -391429\nDiction: -662641, Item: 379921\nDiction: -662641, Item: 212355\nDiction: -662641, Item: 510240\nDiction: -662641, Item: -428210\nDiction: -662641, Item: -821270\nDictionary was greater.\nDiction: -821270, Item: 693919\nDiction: -821270, Item: 416279\nDiction: -821270, Item: -974162\nDictionary was greater.\nDiction: -974162, Item: 860160\nDiction: -974162, Item: -1115008\nDictionary was greater.\nDiction: -1115008, Item: 1033049\nDiction: -1115008, Item: 95319\nDiction: -1115008, Item: -308092\nDiction: -1115008, Item: 99053\nDiction: -1115008, Item: -521392\nDiction: -1115008, Item: 605451\nDiction: -1115008, Item: 231728\nDiction: -1115008, Item: -65186\nDiction: -1115008, Item: -702715\nDiction: -1115008, Item: 177976\nDiction: -1115008, Item: -1065543\nDiction: -1115008, Item: 1926160\nDiction: -1115008, Item: -917804\nDiction: -1115008, Item: 898731\nDiction: -1115008, Item: -334261\nDiction: -1115008, Item: -246498\nDiction: -1115008, Item: -64054\nDiction: -1115008, Item: -1529235\nDictionary was greater.\nDiction: -1529235, Item: 1497597\nDiction: -1529235, Item: 304915\nDiction: -1529235, Item: -635800\nDiction: -1529235, Item: 398320\nDiction: -1529235, Item: -183160\nDiction: -1529235, Item: -37863\nDiction: -1529235, Item: -253688\nDiction: -1529235, Item: 403656\nDiction: -1529235, Item: 94169\nDiction: -1529235, Item: 306878\nDiction: -1529235, Item: -82999\nDiction: -1529235, Item: 210463\nDiction: -1529235, Item: -2196166\nDictionary was greater.\nDiction: -2196166, Item: 1465223\nDiction: -2196166, Item: -956982\nDiction: -2196166, Item: 1838448\nDiction: -2196166, Item: -468002\nDiction: -2196166, Item: -64601\nDiction: -2196166, Item: 206243\nDiction: -2196166, Item: -242154\nDiction: -2196166, Item: -449078\nDiction: -2196166, Item: 315199\nDiction: -2196166, Item: 241100\nDiction: -2196166, Item: 111541\nDiction: -2196166, Item: 365943\nDiction: -2196166, Item: -219309\nDiction: -2196166, Item: -368664\nDiction: -2196166, Item: 409838\nDiction: -2196166, Item: 151211\nDiction: -2196166, Item: -110243\nDiction: -2196166, Item: -341937\nDiction: -2196166, Item: -1212158\nDiction: -2196166, Item: 683247\nDiction: -2196166, Item: -70824\nDiction: -2196166, Item: 335595\nDiction: -2196166, Item: 417335\nDiction: -2196166, Item: -272193\nDiction: -2196166, Item: -236461\nDiction: -2196166, Item: 657433\nDiction: -2196166, Item: -211261\nDiction: -2196166, Item: -128236\nDiction: -2196166, Item: -1750386\nDiction: -2196166, Item: 925442\nDiction: -2196166, Item: 932090\nDiction: -2196166, Item: -311433\nDiction: -2196166, Item: 267253\nDiction: -2196166, Item: -1876757\nDiction: -2196166, Item: 1733697\nDiction: -2196166, Item: 198552\nDiction: -2196166, Item: -665764\nDiction: -2196166, Item: 693230\nDiction: -2196166, Item: -734925\nDiction: -2196166, Item: 77243\nDiction: -2196166, Item: 532870\n"
    }
   ],
   "source": [
    "# Determine the greatest decrease in losses (date and amount) over the entire period.\n",
    "\n",
    "# Value to assign initial greatest decrease in losses\n",
    "initial_assignment_of_losses = 0\n",
    "\n",
    "# Loop through list of profits and losses\n",
    "for a_change_in_profits_and_losses_item in change_in_profits_and_losses_list:\n",
    "    \n",
    "    # Assignment of initial value to greatest decrease from list\n",
    "    if initial_assignment_of_losses == 0:\n",
    "\n",
    "        # Assignment of dictionary values to variables\n",
    "        date_value = a_change_in_profits_and_losses_item[\"Date\"]\n",
    "        pnl_value = a_change_in_profits_and_losses_item[\"PnL\"]\n",
    "\n",
    "        # Assignment of values as the greatest decrease in losses dictionary\n",
    "        greatest_decrease_of_losses_dictionary[\"Date\"] = date_value\n",
    "        greatest_decrease_of_losses_dictionary[\"PnL\"] = pnl_value\n",
    "        \n",
    "        # Initial assignment of greatest decrease in losses is incremented and is no longer needed in future loops\n",
    "        initial_assignment_of_losses = 1\n",
    "\n",
    "    # Compare one profit or loss value to next value\n",
    "    if greatest_decrease_of_losses_dictionary[\"PnL\"] > a_change_in_profits_and_losses_item[\"PnL\"]:\n",
    "        \n",
    "        # Assign profits and losses current item value and date to greatest decrease of losses dictionary\n",
    "        greatest_decrease_of_losses_dictionary[\"Date\"] = a_change_in_profits_and_losses_item[\"Date\"]\n",
    "        greatest_decrease_of_losses_dictionary[\"PnL\"] = a_change_in_profits_and_losses_item[\"PnL\"]\n"
   ]
  },
  {
   "cell_type": "code",
   "execution_count": 10,
   "metadata": {},
   "outputs": [],
   "source": [
    "# Capture file path to be written\n",
    "output_path = Path(\"./Resources/summary.txt\")\n",
    "\n",
    "# Open output path \n",
    "filewriter = open(output_path, 'w+')\n",
    "filewriter.write(\"Test - Hello World!\")\n",
    "filewriter.close()"
   ]
  }
 ]
}