{
 "metadata": {
  "language_info": {
   "codemirror_mode": {
    "name": "ipython",
    "version": 3
   },
   "file_extension": ".py",
   "mimetype": "text/x-python",
   "name": "python",
   "nbconvert_exporter": "python",
   "pygments_lexer": "ipython3",
   "version": "3.8.3-final"
  },
  "orig_nbformat": 2,
  "kernelspec": {
   "name": "python_defaultSpec_1600663189292",
   "display_name": "Python 3.8.3 64-bit ('base': conda)"
  }
 },
 "nbformat": 4,
 "nbformat_minor": 2,
 "cells": [
  {
   "cell_type": "code",
   "execution_count": 42,
   "metadata": {},
   "outputs": [],
   "source": [
    "# Import necessary libraries\n",
    "from pathlib import Path\n",
    "import csv"
   ]
  },
  {
   "cell_type": "code",
   "execution_count": 43,
   "metadata": {
    "tags": []
   },
   "outputs": [],
   "source": [
    "# Instantiate data structure to store information from csv\n",
    "budget = [\n",
    "    {\"Date\" : \"PnL\"}\n",
    "]\n",
    "line_number = 0\n"
   ]
  },
  {
   "cell_type": "code",
   "execution_count": 44,
   "metadata": {
    "tags": []
   },
   "outputs": [],
   "source": [
    "# Capture file path to be read\n",
    "csvpath = Path(\"./Resources/budget_data.csv\")\n",
    "\n",
    "# Open data in specified path as csv_file \n",
    "with open(csvpath, 'r') as csv_file:\n",
    "\n",
    "    # Read data from csv_file knowing the data is ',' delimited and assign to csvreader variable\n",
    "    csvreader = csv.reader(csv_file, delimiter=',')\n",
    "\n",
    "    # Store data header\n",
    "    header = next(csvreader)\n",
    "    \n",
    "    # Store current line number to begin reading data\n",
    "    line_number += 1\n",
    "    \n",
    "    # Iterate through each line of csvreader\n",
    "    for row in csvreader:\n",
    "        # Assign each row to dictionary structure\n",
    "        new_item = {row[0] : int(row[1])}\n",
    "        # Append new dictionary item to budget list\n",
    "        budget.append(new_item)\n",
    "            "
   ]
  },
  {
   "cell_type": "code",
   "execution_count": 45,
   "metadata": {},
   "outputs": [],
   "source": [
    "# Instatiate metric variables\n",
    "number_of_months = 0\n",
    "profits_and_losses = []\n",
    "net_total_amount_of_profits_and_losses = 0\n",
    "average_of_profit_and_losses = 0\n",
    "greatest_increase_of_profits = 0\n",
    "greatest_decrease_of_losses = 0\n"
   ]
  },
  {
   "cell_type": "code",
   "execution_count": 52,
   "metadata": {
    "tags": []
   },
   "outputs": [
    {
     "output_type": "stream",
     "name": "stdout",
     "text": "87\n"
    }
   ],
   "source": [
    "# The total number of months included in the dataset.\n",
    "number_of_months = len(budget)\n"
   ]
  },
  {
   "cell_type": "code",
   "execution_count": 47,
   "metadata": {},
   "outputs": [],
   "source": [
    "# The net total amount of Profit/Losses over the entire period.\n"
   ]
  },
  {
   "cell_type": "code",
   "execution_count": 48,
   "metadata": {},
   "outputs": [],
   "source": [
    "# The average of the changes in Profit/Losses over the entire period.\n",
    "\n",
    "#previous_day_data = 0\n",
    "#next(numbers)\n",
    "#initial_step_in = 1\n",
    "\n",
    "#for num in numbers:\n",
    "#    if previous_day_data != num or initial_step_in == 1:\n",
    "#        do something\n",
    "    \n",
    "#    previous_day_data = num\n",
    "#    initial_step_in = 2\n"
   ]
  },
  {
   "cell_type": "code",
   "execution_count": 49,
   "metadata": {},
   "outputs": [],
   "source": [
    "# The greatest increase in profits (date and amount) over the entire period.\n"
   ]
  },
  {
   "cell_type": "code",
   "execution_count": 50,
   "metadata": {},
   "outputs": [],
   "source": [
    "# The greatest decrease in losses (date and amount) over the entire period.\n"
   ]
  },
  {
   "cell_type": "code",
   "execution_count": 51,
   "metadata": {},
   "outputs": [],
   "source": [
    "# Capture file path to be written\n",
    "output_path = Path(\"./Resources/summary.txt\")\n",
    "\n",
    "# Open output path \n",
    "filewriter = open(output_path, 'w+')\n",
    "filewriter.write(\"Test - Hello World!\")\n",
    "filewriter.close()"
   ]
  }
 ]
}