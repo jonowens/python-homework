{
 "metadata": {
  "language_info": {
   "codemirror_mode": {
    "name": "ipython",
    "version": 3
   },
   "file_extension": ".py",
   "mimetype": "text/x-python",
   "name": "python",
   "nbconvert_exporter": "python",
   "pygments_lexer": "ipython3",
   "version": "3.8.3-final"
  },
  "orig_nbformat": 2,
  "kernelspec": {
   "name": "python_defaultSpec_1600777874073",
   "display_name": "Python 3.8.3 64-bit ('base': conda)"
  }
 },
 "nbformat": 4,
 "nbformat_minor": 2,
 "cells": [
  {
   "cell_type": "code",
   "execution_count": 1,
   "metadata": {},
   "outputs": [],
   "source": [
    "# -*- coding: utf-8 -*-"
   ]
  },
  {
   "source": [
    "# PyBank Budget Assistance\n",
    "\n",
    "### Description: \n",
    "* The following task is to help PyBank analyze their financial information.  A budget_data.csv file\n",
    "has been provided with two sets of data: Date and Profit/Loss for the given month.  The following code \n",
    "below will analyze and calculate various metrics along with providing an output of the analysis to the screen and a summary.txt file found in the Resources directory of the repository.\n"
   ],
   "cell_type": "markdown",
   "metadata": {}
  },
  {
   "cell_type": "code",
   "execution_count": 2,
   "metadata": {},
   "outputs": [],
   "source": [
    "# Import necessary libraries\n",
    "from pathlib import Path\n",
    "import csv\n",
    "import budgpy as bgy"
   ]
  },
  {
   "cell_type": "code",
   "execution_count": 3,
   "metadata": {
    "tags": []
   },
   "outputs": [],
   "source": [
    "# Initialize data structure to store information from csv\n",
    "budget = []\n",
    "# Initialize metric variables\n",
    "number_of_months = 0\n",
    "net_total_amount_of_profits_and_losses = 0\n",
    "change_in_profits_and_losses_list = []\n",
    "average_of_profit_and_losses = 0\n",
    "greatest_increase_of_profits_dictionary = {}\n",
    "greatest_decrease_of_losses_dictionary = {}\n",
    "number_of_profits_and_losses = 0\n",
    "net_total_amount_of_profits_and_losses = 0\n",
    "total_sum_of_profit_and_loss_changes = 0\n"
   ]
  },
  {
   "cell_type": "code",
   "execution_count": 4,
   "metadata": {
    "tags": []
   },
   "outputs": [],
   "source": [
    "# Capture file path to be read\n",
    "csvpath = Path(\"./Resources/budget_data.csv\")\n",
    "\n",
    "# Open data in specified path as csv_file \n",
    "with open(csvpath, 'r') as csv_file:\n",
    "\n",
    "    # Read data from csv_file knowing the data is ',' delimited and assign to csvreader variable\n",
    "    csvreader = csv.reader(csv_file, delimiter=',')\n",
    "\n",
    "    # Store data header\n",
    "    header = next(csvreader)\n",
    "\n",
    "    # Iterate through each line of csvreader\n",
    "    for row in csvreader:\n",
    "        # Assign each row to dictionary structure\n",
    "        first_item = row[0]\n",
    "        second_item = int(row[1])\n",
    "        # Assign dictionary data items to budget list\n",
    "        budget.append({'Date': first_item, 'PnL': second_item})\n"
   ]
  },
  {
   "cell_type": "code",
   "execution_count": 4,
   "metadata": {},
   "outputs": [],
   "source": [
    "\n"
   ]
  },
  {
   "cell_type": "code",
   "execution_count": 5,
   "metadata": {
    "tags": []
   },
   "outputs": [],
   "source": [
    "# The total number of months included in the dataset.\n",
    "number_of_months_in_budget = len(budget)\n"
   ]
  },
  {
   "cell_type": "code",
   "execution_count": 6,
   "metadata": {
    "tags": []
   },
   "outputs": [],
   "source": [
    "# The net total amount of Profit/Losses over the entire period.\n",
    "# To track the next month count\n",
    "next_month_index = 1\n",
    "\n",
    "# Loop through budget list for each item to build change in profit and loss list\n",
    "for item in budget:\n",
    "    \n",
    "    #Determine if there is a next month variable available to compare with current month data\n",
    "    if next_month_index < len(budget):\n",
    "    \n",
    "        # Calculate profit or lose from current month to next month\n",
    "\n",
    "        change = budget[next_month_index][\"PnL\"] - item[\"PnL\"]\n",
    "        # Assign profit or loss change to list {'Date': first_item, 'PnL': second_item}\n",
    "        change_in_profits_and_losses_list.append({'Date': budget[next_month_index][\"Date\"], 'PnL': change})\n",
    "\n",
    "        # Increment count to track next month place holder\n",
    "        next_month_index += 1\n",
    "    \n",
    "    # Assign current item profit and loss value\n",
    "    pnl_raw =  item['PnL']\n",
    "\n",
    "    # Accumulate total of all \n",
    "    net_total_amount_of_profits_and_losses += pnl_raw\n"
   ]
  },
  {
   "cell_type": "code",
   "execution_count": 7,
   "metadata": {
    "tags": []
   },
   "outputs": [],
   "source": [
    "# The average of the changes in Profit/Losses over the entire period.\n",
    "# Number of profits and losses\n",
    "number_of_profits_and_losses = len(change_in_profits_and_losses_list)\n",
    "\n",
    "for a_change_of_profits_and_losses in change_in_profits_and_losses_list:\n",
    "    total_sum_of_profit_and_loss_changes += a_change_of_profits_and_losses['PnL']\n",
    "\n",
    "# Calculate the average of profits and losses\n",
    "average_of_profit_and_losses = total_sum_of_profit_and_loss_changes / number_of_profits_and_losses\n",
    "\n",
    "average_of_profit_and_losses = round(average_of_profit_and_losses, 2)\n"
   ]
  },
  {
   "cell_type": "code",
   "execution_count": 8,
   "metadata": {
    "tags": []
   },
   "outputs": [],
   "source": [
    "# Determines the greatest increase in profits (date and amount) over the entire period and assigns the return values\n",
    "greatest_increase_of_profits_dictionary = bgy.greatest_increase_or_decrease_in_profits(change_in_profits_and_losses_list, \"increase\")\n"
   ]
  },
  {
   "cell_type": "code",
   "execution_count": 9,
   "metadata": {
    "tags": []
   },
   "outputs": [],
   "source": [
    "# Determine the greatest decrease in losses (date and amount) over the entire period and assigns the return values\n",
    "greatest_decrease_of_losses_dictionary = bgy.greatest_increase_or_decrease_in_profits(change_in_profits_and_losses_list, \"decrease\")\n"
   ]
  },
  {
   "cell_type": "code",
   "execution_count": 10,
   "metadata": {
    "tags": []
   },
   "outputs": [
    {
     "output_type": "stream",
     "name": "stdout",
     "text": "Financial Analysis\n----------------------------\nTotal Months: 86\nTotal: $38382578\nAverage Change: $-2315.12\nGreatest Increase in Profits: Feb-2012 ($1926159)\nGreatest Decrease in Profits: Sep-2013 ($-2196167)\n\n"
    }
   ],
   "source": [
    "bgy.summary_output(number_of_months_in_budget, net_total_amount_of_profits_and_losses, average_of_profit_and_losses, greatest_increase_of_profits_dictionary, greatest_decrease_of_losses_dictionary)"
   ]
  },
  {
   "cell_type": "code",
   "execution_count": null,
   "metadata": {},
   "outputs": [],
   "source": []
  }
 ]
}