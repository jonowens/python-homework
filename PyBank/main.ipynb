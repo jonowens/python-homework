{
 "metadata": {
  "language_info": {
   "codemirror_mode": {
    "name": "ipython",
    "version": 3
   },
   "file_extension": ".py",
   "mimetype": "text/x-python",
   "name": "python",
   "nbconvert_exporter": "python",
   "pygments_lexer": "ipython3",
   "version": "3.8.3-final"
  },
  "orig_nbformat": 2,
  "kernelspec": {
   "name": "python_defaultSpec_1600663189292",
   "display_name": "Python 3.8.3 64-bit ('base': conda)"
  }
 },
 "nbformat": 4,
 "nbformat_minor": 2,
 "cells": [
  {
   "cell_type": "code",
   "execution_count": null,
   "metadata": {},
   "outputs": [],
   "source": [
    "# Import necessary libraries\n",
    "from pathlib import Path\n",
    "import csv"
   ]
  },
  {
   "cell_type": "code",
   "execution_count": null,
   "metadata": {
    "tags": []
   },
   "outputs": [],
   "source": [
    "# Instantiate data structure to store information from csv\n",
    "budget = []\n",
    "line_number = 0\n"
   ]
  },
  {
   "cell_type": "code",
   "execution_count": null,
   "metadata": {
    "tags": []
   },
   "outputs": [],
   "source": [
    "# Capture file path to be read\n",
    "csvpath = Path(\"./Resources/budget_data.csv\")\n",
    "\n",
    "# Open data in specified path as csv_file \n",
    "with open(csvpath, 'r') as csv_file:\n",
    "\n",
    "    # Read data from csv_file knowing the data is ',' delimited and assign to csvreader variable\n",
    "    csvreader = csv.reader(csv_file, delimiter=',')\n",
    "\n",
    "    # Store data header\n",
    "    header = next(csvreader)\n",
    "    \n",
    "    # Store current line number to begin reading data\n",
    "    line_number += 1\n",
    "\n",
    "    # Iterate through each line of csvreader\n",
    "    for row in csvreader:\n",
    "        # Assign each row to dictionary structure\n",
    "        first_item = row[0]\n",
    "        second_item = int(row[1])\n",
    "        # Assign dictionary data items to budget list\n",
    "        budget.append({'Date': first_item, 'PnL': second_item})\n"
   ]
  },
  {
   "cell_type": "code",
   "execution_count": null,
   "metadata": {},
   "outputs": [],
   "source": [
    "# Instatiate metric variables\n",
    "number_of_months = 0\n",
    "net_total_amount_of_profits_and_losses = 0\n",
    "change_in_profits_and_losses_list = []\n",
    "average_of_profit_and_losses = 0\n",
    "greatest_increase_of_profits_dictionary = {}\n",
    "greatest_decrease_of_losses_dictionary = {}\n",
    "number_of_profits_and_losses = 0\n",
    "net_total_amount_of_profits_and_losses = 0\n"
   ]
  },
  {
   "cell_type": "code",
   "execution_count": null,
   "metadata": {
    "tags": []
   },
   "outputs": [],
   "source": [
    "# The total number of months included in the dataset.\n",
    "number_of_months_in_budget = len(budget)\n"
   ]
  },
  {
   "cell_type": "code",
   "execution_count": null,
   "metadata": {
    "tags": []
   },
   "outputs": [],
   "source": [
    "# The net total amount of Profit/Losses over the entire period.\n",
    "# To track the next month count\n",
    "next_month_index = 1\n",
    "\n",
    "# Loop through budget list for each item to build change in profit and loss list\n",
    "for item in budget:\n",
    "    \n",
    "    #Determine if there is a next month variable available to compare with current month data\n",
    "    if next_month_index < len(budget):\n",
    "    \n",
    "        # Calculate profit or lose from current month to next month\n",
    "        change = budget[next_month_index][\"PnL\"] - item[\"PnL\"]\n",
    "\n",
    "        # Assign profit or loss change to list {'Date': first_item, 'PnL': second_item}\n",
    "        change_in_profits_and_losses_list.append({'Date': budget[next_month_index][\"Date\"], 'PnL': change})\n",
    "\n",
    "        # Increment count to track next month place holder\n",
    "        next_month_index += 1\n",
    "    \n",
    "    # Accumulate total of all \n",
    "    net_total_amount_of_profits_and_losses += change\n"
   ]
  },
  {
   "cell_type": "code",
   "execution_count": null,
   "metadata": {
    "tags": []
   },
   "outputs": [],
   "source": [
    "# The average of the changes in Profit/Losses over the entire period.\n",
    "# Number of profits and losses\n",
    "number_of_profits_and_losses = len(change_in_profits_and_losses_list)\n",
    "\n",
    "# Calculate the average of profits and losses\n",
    "average_of_profit_and_losses = net_total_amount_of_profits_and_losses / number_of_profits_and_losses\n"
   ]
  },
  {
   "cell_type": "code",
   "execution_count": null,
   "metadata": {
    "tags": []
   },
   "outputs": [],
   "source": [
    "# Determine the greatest increase in profits (date and amount) over the entire period.\n",
    "\n",
    "# Current index of item in list\n",
    "next_month_index = 1\n",
    "\n",
    "# Loop through list of profits and losses\n",
    "for a_change_in_profits_and_losses_item in change_in_profits_and_losses_list:\n",
    "    \n",
    "    # Assignment of initial value to greatest increase from list\n",
    "    if next_month_index == 1:\n",
    "        greatest_increase_of_profits = a_change_in_profits_and_losses_item[\"PnL\"]\n",
    "    \n",
    "    # Compare one profit or loss value to next value\n",
    "    if change_in_profits_and_losses_list[next_month_index][\"PnL\"] > a_change_in_profits_and_losses_item[\"PnL\"]:\n",
    "        greatest_increase_of_profits = \n",
    "    #    greatest_increase_of_profits = change_in_profits_and_losses_list[next_month_index][\"PnL\"]\n",
    "\n",
    "    next_month_index += 1\n",
    "    "
   ]
  },
  {
   "cell_type": "code",
   "execution_count": null,
   "metadata": {},
   "outputs": [],
   "source": [
    "# The greatest decrease in losses (date and amount) over the entire period.\n",
    "\n"
   ]
  },
  {
   "cell_type": "code",
   "execution_count": null,
   "metadata": {},
   "outputs": [],
   "source": [
    "# Capture file path to be written\n",
    "output_path = Path(\"./Resources/summary.txt\")\n",
    "\n",
    "# Open output path \n",
    "filewriter = open(output_path, 'w+')\n",
    "filewriter.write(\"Test - Hello World!\")\n",
    "filewriter.close()"
   ]
  }
 ]
}