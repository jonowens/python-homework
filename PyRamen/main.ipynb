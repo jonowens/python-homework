{
 "metadata": {
  "language_info": {
   "codemirror_mode": {
    "name": "ipython",
    "version": 3
   },
   "file_extension": ".py",
   "mimetype": "text/x-python",
   "name": "python",
   "nbconvert_exporter": "python",
   "pygments_lexer": "ipython3",
   "version": "3.8.5-final"
  },
  "orig_nbformat": 2,
  "kernelspec": {
   "name": "Python 3.8.5 64-bit ('base': conda)",
   "display_name": "Python 3.8.5 64-bit ('base': conda)",
   "metadata": {
    "interpreter": {
     "hash": "600c25c12856a842ab64bd468beca1647a20977f2accb2696f130eafa2c53eb8"
    }
   }
  }
 },
 "nbformat": 4,
 "nbformat_minor": 2,
 "cells": [
  {
   "cell_type": "code",
   "execution_count": 32,
   "metadata": {},
   "outputs": [],
   "source": [
    "# -*- coding: utf-8 -*-\n"
   ]
  },
  {
   "source": [
    "# PyRamen Sales Assistance\n",
    "\n",
    "### Description: \n",
    "* The following task is to help PyRamen analyze sales data and cross reference it with manu data.  Two data files have been provided, menu_data.csv and sales_data.csv, to help with the analysis.  The following code below will analyze and calculate various metrics along manipulating the data to help automate the calculations.\n"
   ],
   "cell_type": "markdown",
   "metadata": {}
  },
  {
   "cell_type": "code",
   "execution_count": 33,
   "metadata": {},
   "outputs": [],
   "source": [
    "# Import necessary libraries\n",
    "from pathlib import Path\n",
    "import csv\n"
   ]
  },
  {
   "cell_type": "code",
   "execution_count": 34,
   "metadata": {},
   "outputs": [],
   "source": [
    "# Set file paths for menu_data.csv and sales_data.csv\n",
    "menu_filepath = Path('./Resources/menu_data.csv')\n",
    "sales_filepath = Path('./Resources/sales_data.csv')"
   ]
  },
  {
   "cell_type": "code",
   "execution_count": 35,
   "metadata": {},
   "outputs": [],
   "source": [
    "# Initialize variables\n",
    "# List object to hold menu data\n",
    "menu = []\n",
    "# List object tol hold sales data\n",
    "sales = []\n"
   ]
  },
  {
   "cell_type": "code",
   "execution_count": 36,
   "metadata": {},
   "outputs": [],
   "source": [
    "def create_list_of_lists_from_csv(csv_file_path):\n",
    "\n",
    "    # Initialize variables\n",
    "    list_of_lists = []\n",
    "    a_list = []\n",
    "    nested_lists_count = 0\n",
    "    data_value = \"\"\n",
    "    list_value = []\n",
    "\n",
    "    # Open data in specified path as csv_file \n",
    "    with open(csv_file_path, 'r') as csv_file:\n",
    "\n",
    "        # Read data from csv_file knowing the data is ',' delimited and assign to csvreader variable\n",
    "        csvreader = csv.reader(csv_file, delimiter=',')\n",
    "\n",
    "        # Store data header and go to next line\n",
    "        header = next(csvreader)\n",
    "        \n",
    "        # Iterate through each line of csvreader\n",
    "        for row in csvreader:\n",
    "            \n",
    "            # Loop through items in row\n",
    "            for an_item in row:\n",
    "\n",
    "                # Assign current item to variable\n",
    "                data_value = an_item\n",
    "\n",
    "                # Appending variable value to list\n",
    "                a_list.append(data_value)\n",
    "            \n",
    "            # Assign a list to variable\n",
    "            list_value = a_list\n",
    "            \n",
    "            # Append list to list of lists\n",
    "            list_of_lists.append(list_value)\n",
    "\n",
    "            # Clear values from list and list temporary variable\n",
    "            a_list = []\n",
    "            list_value = []\n",
    "\n",
    "    # Return list of lists\n",
    "    return list_of_lists\n"
   ]
  },
  {
   "cell_type": "code",
   "execution_count": 37,
   "metadata": {
    "tags": []
   },
   "outputs": [],
   "source": [
    "# Read in the menu data into the menu list\n",
    "menu = create_list_of_lists_from_csv(menu_filepath)\n"
   ]
  },
  {
   "cell_type": "code",
   "execution_count": 38,
   "metadata": {
    "tags": []
   },
   "outputs": [],
   "source": [
    "# Read in the sales data into the sales list\n",
    "sales = create_list_of_lists_from_csv(sales_filepath)\n"
   ]
  },
  {
   "cell_type": "code",
   "execution_count": 39,
   "metadata": {},
   "outputs": [],
   "source": [
    "# Initialize dict object to hold our key-value pairs of items and metrics\n",
    "report = {}\n"
   ]
  },
  {
   "cell_type": "code",
   "execution_count": 40,
   "metadata": {
    "tags": []
   },
   "outputs": [],
   "source": [
    "# Initialize a row counter variable\n",
    "row_count = 0\n"
   ]
  },
  {
   "cell_type": "code",
   "execution_count": 41,
   "metadata": {
    "tags": [
     "outputPrepend"
    ]
   },
   "outputs": [
    {
     "output_type": "stream",
     "name": "stdout",
     "text": "amen\nvegetarian curry + king trumpet mushroom ramen\nmiso crab ramen\nmiso crab ramen\nvegetarian curry + king trumpet mushroom ramen\nvegetarian curry + king trumpet mushroom ramen\ntruffle butter ramen\ntruffle butter ramen\ntonkotsu ramen\ntonkotsu ramen\nburnt garlic tonkotsu ramen\nburnt garlic tonkotsu ramen\ntori paitan ramen\ntori paitan ramen\nmiso crab ramen\nmiso crab ramen\ntruffle butter ramen\ntruffle butter ramen\ntori paitan ramen\ntori paitan ramen\ntori paitan ramen\ntori paitan ramen\nnagomi shoyu\nnagomi shoyu\nnagomi shoyu\nnagomi shoyu\nspicy miso ramen\nspicy miso ramen\nsoft-shell miso crab ramen\nsoft-shell miso crab ramen\nmiso crab ramen\nmiso crab ramen\nburnt garlic tonkotsu ramen\nburnt garlic tonkotsu ramen\ntonkotsu ramen\ntonkotsu ramen\ntruffle butter ramen\ntruffle butter ramen\nvegetarian spicy miso\nvegetarian spicy miso\nspicy miso ramen\nspicy miso ramen\nshio ramen\nshio ramen\nsoft-shell miso crab ramen\nsoft-shell miso crab ramen\ntonkotsu ramen\ntonkotsu ramen\nburnt garlic tonkotsu ramen\nburnt garlic tonkotsu ramen\nmiso crab ramen\nmiso crab ramen\nshio ramen\nshio ramen\nburnt garlic tonkotsu ramen\nburnt garlic tonkotsu ramen\ntonkotsu ramen\ntonkotsu ramen\nsoft-shell miso crab ramen\nsoft-shell miso crab ramen\ntruffle butter ramen\ntruffle butter ramen\nshio ramen\nshio ramen\ntruffle butter ramen\ntruffle butter ramen\nshio ramen\nshio ramen\ntonkotsu ramen\ntonkotsu ramen\nsoft-shell miso crab ramen\nsoft-shell miso crab ramen\nmiso crab ramen\nmiso crab ramen\ntonkotsu ramen\ntonkotsu ramen\nvegetarian spicy miso\nvegetarian spicy miso\nburnt garlic tonkotsu ramen\nburnt garlic tonkotsu ramen\nburnt garlic tonkotsu ramen\nburnt garlic tonkotsu ramen\ntonkotsu ramen\ntonkotsu ramen\ntonkotsu ramen\ntonkotsu ramen\nsoft-shell miso crab ramen\nsoft-shell miso crab ramen\nsoft-shell miso crab ramen\nsoft-shell miso crab ramen\ntonkotsu ramen\ntonkotsu ramen\ntori paitan ramen\ntori paitan ramen\nburnt garlic tonkotsu ramen\nburnt garlic tonkotsu ramen\nshio ramen\nshio ramen\nshio ramen\nshio ramen\nnagomi shoyu\nnagomi shoyu\nburnt garlic tonkotsu ramen\nburnt garlic tonkotsu ramen\nsoft-shell miso crab ramen\nsoft-shell miso crab ramen\nvegetarian curry + king trumpet mushroom ramen\nvegetarian curry + king trumpet mushroom ramen\nnagomi shoyu\nnagomi shoyu\nvegetarian spicy miso\nvegetarian spicy miso\ntruffle butter ramen\ntruffle butter ramen\ntori paitan ramen\ntori paitan ramen\ntruffle butter ramen\ntruffle butter ramen\nspicy miso ramen\nspicy miso ramen\nspicy miso ramen\nspicy miso ramen\nnagomi shoyu\nnagomi shoyu\nvegetarian spicy miso\nvegetarian spicy miso\nvegetarian spicy miso\nvegetarian spicy miso\nvegetarian spicy miso\nvegetarian spicy miso\nvegetarian curry + king trumpet mushroom ramen\nvegetarian curry + king trumpet mushroom ramen\ntori paitan ramen\ntori paitan ramen\ntruffle butter ramen\ntruffle butter ramen\ntruffle butter ramen\ntruffle butter ramen\ntruffle butter ramen\ntruffle butter ramen\ntonkotsu ramen\ntonkotsu ramen\nvegetarian curry + king trumpet mushroom ramen\nvegetarian curry + king trumpet mushroom ramen\nshio ramen\nshio ramen\ntori paitan ramen\ntori paitan ramen\ntonkotsu ramen\ntonkotsu ramen\nspicy miso ramen\nspicy miso ramen\nvegetarian spicy miso\nvegetarian spicy miso\nburnt garlic tonkotsu ramen\nburnt garlic tonkotsu ramen\nvegetarian curry + king trumpet mushroom ramen\nvegetarian curry + king trumpet mushroom ramen\ntonkotsu ramen\ntonkotsu ramen\ntonkotsu ramen\ntonkotsu ramen\ntonkotsu ramen\ntonkotsu ramen\nnagomi shoyu\nnagomi shoyu\ntori paitan ramen\ntori paitan ramen\nspicy miso ramen\nspicy miso ramen\nsoft-shell miso crab ramen\nsoft-shell miso crab ramen\ntori paitan ramen\ntori paitan ramen\ntori paitan ramen\ntori paitan ramen\nsoft-shell miso crab ramen\nsoft-shell miso crab ramen\nnagomi shoyu\nnagomi shoyu\ntruffle butter ramen\ntruffle butter ramen\nmiso crab ramen\nmiso crab ramen\ntonkotsu ramen\ntonkotsu ramen\nmiso crab ramen\nmiso crab ramen\nshio ramen\nshio ramen\ntori paitan ramen\ntori paitan ramen\nvegetarian spicy miso\nvegetarian spicy miso\nmiso crab ramen\nmiso crab ramen\nburnt garlic tonkotsu ramen\nburnt garlic tonkotsu ramen\nsoft-shell miso crab ramen\nsoft-shell miso crab ramen\ntonkotsu ramen\ntonkotsu ramen\nmiso crab ramen\nmiso crab ramen\ntori paitan ramen\ntori paitan ramen\nnagomi shoyu\nnagomi shoyu\nsoft-shell miso crab ramen\nsoft-shell miso crab ramen\nvegetarian spicy miso\nvegetarian spicy miso\nspicy miso ramen\nspicy miso ramen\ntruffle butter ramen\ntruffle butter ramen\nsoft-shell miso crab ramen\nsoft-shell miso crab ramen\ntori paitan ramen\ntori paitan ramen\nspicy miso ramen\nspicy miso ramen\nsoft-shell miso crab ramen\nsoft-shell miso crab ramen\nnagomi shoyu\nnagomi shoyu\nnagomi shoyu\nnagomi shoyu\nnagomi shoyu\nnagomi shoyu\ntori paitan ramen\ntori paitan ramen\nsoft-shell miso crab ramen\nsoft-shell miso crab ramen\nvegetarian curry + king trumpet mushroom ramen\nvegetarian curry + king trumpet mushroom ramen\nshio ramen\nshio ramen\nsoft-shell miso crab ramen\nsoft-shell miso crab ramen\nshio ramen\nshio ramen\ntonkotsu ramen\ntonkotsu ramen\nshio ramen\nshio ramen\nsoft-shell miso crab ramen\nsoft-shell miso crab ramen\ntori paitan ramen\ntori paitan ramen\nshio ramen\nshio ramen\nnagomi shoyu\nnagomi shoyu\ntori paitan ramen\ntori paitan ramen\nshio ramen\nshio ramen\ntruffle butter ramen\ntruffle butter ramen\ntori paitan ramen\ntori paitan ramen\nsoft-shell miso crab ramen\nsoft-shell miso crab ramen\ntori paitan ramen\ntori paitan ramen\ntori paitan ramen\ntori paitan ramen\ntonkotsu ramen\ntonkotsu ramen\nvegetarian curry + king trumpet mushroom ramen\nvegetarian curry + king trumpet mushroom ramen\ntonkotsu ramen\ntonkotsu ramen\ntonkotsu ramen\ntonkotsu ramen\nmiso crab ramen\nmiso crab ramen\ntori paitan ramen\ntori paitan ramen\nnagomi shoyu\nnagomi shoyu\nmiso crab ramen\nmiso crab ramen\nspicy miso ramen\nspicy miso ramen\nspicy miso ramen\nspicy miso ramen\nsoft-shell miso crab ramen\nsoft-shell miso crab ramen\ntonkotsu ramen\ntonkotsu ramen\nsoft-shell miso crab ramen\nsoft-shell miso crab ramen\nmiso crab ramen\nmiso crab ramen\ntruffle butter ramen\ntruffle butter ramen\nvegetarian curry + king trumpet mushroom ramen\nvegetarian curry + king trumpet mushroom ramen\nsoft-shell miso crab ramen\nsoft-shell miso crab ramen\nmiso crab ramen\nmiso crab ramen\ntruffle butter ramen\ntruffle butter ramen\nnagomi shoyu\nnagomi shoyu\nspicy miso ramen\nspicy miso ramen\nvegetarian spicy miso\nvegetarian spicy miso\nnagomi shoyu\nnagomi shoyu\ntonkotsu ramen\ntonkotsu ramen\nvegetarian curry + king trumpet mushroom ramen\nvegetarian curry + king trumpet mushroom ramen\ntori paitan ramen\ntori paitan ramen\ntonkotsu ramen\ntonkotsu ramen\nvegetarian curry + king trumpet mushroom ramen\nvegetarian curry + king trumpet mushroom ramen\nburnt garlic tonkotsu ramen\nburnt garlic tonkotsu ramen\nburnt garlic tonkotsu ramen\nburnt garlic tonkotsu ramen\ntori paitan ramen\ntori paitan ramen\nnagomi shoyu\nnagomi shoyu\ntonkotsu ramen\ntonkotsu ramen\ntori paitan ramen\ntori paitan ramen\ntruffle butter ramen\ntruffle butter ramen\nsoft-shell miso crab ramen\nsoft-shell miso crab ramen\ntruffle butter ramen\ntruffle butter ramen\nvegetarian spicy miso\nvegetarian spicy miso\ntruffle butter ramen\ntruffle butter ramen\nspicy miso ramen\nspicy miso ramen\nsoft-shell miso crab ramen\nsoft-shell miso crab ramen\nvegetarian curry + king trumpet mushroom ramen\nvegetarian curry + king trumpet mushroom ramen\ntruffle butter ramen\ntruffle butter ramen\ntonkotsu ramen\ntonkotsu ramen\nspicy miso ramen\nspicy miso ramen\nnagomi shoyu\nnagomi shoyu\ntruffle butter ramen\ntruffle butter ramen\nnagomi shoyu\nnagomi shoyu\ntruffle butter ramen\ntruffle butter ramen\ntonkotsu ramen\ntonkotsu ramen\nspicy miso ramen\nspicy miso ramen\nnagomi shoyu\nnagomi shoyu\nsoft-shell miso crab ramen\nsoft-shell miso crab ramen\nmiso crab ramen\nmiso crab ramen\nnagomi shoyu\nnagomi shoyu\nmiso crab ramen\nmiso crab ramen\ntonkotsu ramen\ntonkotsu ramen\nspicy miso ramen\nspicy miso ramen\nnagomi shoyu\nnagomi shoyu\ntonkotsu ramen\ntonkotsu ramen\nspicy miso ramen\nspicy miso ramen\nmiso crab ramen\nmiso crab ramen\ntruffle butter ramen\ntruffle butter ramen\nvegetarian curry + king trumpet mushroom ramen\nvegetarian curry + king trumpet mushroom ramen\ntruffle butter ramen\ntruffle butter ramen\nshio ramen\nshio ramen\nvegetarian spicy miso\nvegetarian spicy miso\nnagomi shoyu\nnagomi shoyu\ntruffle butter ramen\ntruffle butter ramen\ntruffle butter ramen\ntruffle butter ramen\ntori paitan ramen\ntori paitan ramen\nburnt garlic tonkotsu ramen\nburnt garlic tonkotsu ramen\nvegetarian spicy miso\nvegetarian spicy miso\nshio ramen\nshio ramen\nmiso crab ramen\nmiso crab ramen\nvegetarian curry + king trumpet mushroom ramen\nvegetarian curry + king trumpet mushroom ramen\nburnt garlic tonkotsu ramen\nburnt garlic tonkotsu ramen\nspicy miso ramen\nspicy miso ramen\nmiso crab ramen\nmiso crab ramen\ntruffle butter ramen\ntruffle butter ramen\ntruffle butter ramen\ntruffle butter ramen\ntori paitan ramen\ntori paitan ramen\nmiso crab ramen\nmiso crab ramen\nspicy miso ramen\nspicy miso ramen\nshio ramen\nshio ramen\nnagomi shoyu\nnagomi shoyu\nvegetarian spicy miso\nvegetarian spicy miso\ntruffle butter ramen\ntruffle butter ramen\nsoft-shell miso crab ramen\nsoft-shell miso crab ramen\nshio ramen\nshio ramen\nvegetarian curry + king trumpet mushroom ramen\nvegetarian curry + king trumpet mushroom ramen\nvegetarian curry + king trumpet mushroom ramen\nvegetarian curry + king trumpet mushroom ramen\nshio ramen\nshio ramen\nshio ramen\nshio ramen\nnagomi shoyu\nnagomi shoyu\nsoft-shell miso crab ramen\nsoft-shell miso crab ramen\nmiso crab ramen\nmiso crab ramen\ntruffle butter ramen\ntruffle butter ramen\nburnt garlic tonkotsu ramen\nburnt garlic tonkotsu ramen\ntruffle butter ramen\ntruffle butter ramen\nsoft-shell miso crab ramen\nsoft-shell miso crab ramen\nvegetarian curry + king trumpet mushroom ramen\nvegetarian curry + king trumpet mushroom ramen\nburnt garlic tonkotsu ramen\nburnt garlic tonkotsu ramen\ntruffle butter ramen\ntruffle butter ramen\ntruffle butter ramen\ntruffle butter ramen\ntori paitan ramen\ntori paitan ramen\nvegetarian curry + king trumpet mushroom ramen\nvegetarian curry + king trumpet mushroom ramen\nshio ramen\nshio ramen\nvegetarian spicy miso\nvegetarian spicy miso\nvegetarian curry + king trumpet mushroom ramen\nvegetarian curry + king trumpet mushroom ramen\nburnt garlic tonkotsu ramen\nburnt garlic tonkotsu ramen\nvegetarian curry + king trumpet mushroom ramen\nvegetarian curry + king trumpet mushroom ramen\nburnt garlic tonkotsu ramen\nburnt garlic tonkotsu ramen\nvegetarian curry + king trumpet mushroom ramen\nvegetarian curry + king trumpet mushroom ramen\nspicy miso ramen\nspicy miso ramen\nvegetarian curry + king trumpet mushroom ramen\nvegetarian curry + king trumpet mushroom ramen\nmiso crab ramen\nmiso crab ramen\nvegetarian curry + king trumpet mushroom ramen\nvegetarian curry + king trumpet mushroom ramen\nnagomi shoyu\nnagomi shoyu\nmiso crab ramen\nmiso crab ramen\nshio ramen\nshio ramen\ntori paitan ramen\ntori paitan ramen\nspicy miso ramen\nspicy miso ramen\ntori paitan ramen\ntori paitan ramen\nshio ramen\nshio ramen\ntruffle butter ramen\ntruffle butter ramen\nspicy miso ramen\nspicy miso ramen\ntonkotsu ramen\ntonkotsu ramen\nsoft-shell miso crab ramen\nsoft-shell miso crab ramen\nsoft-shell miso crab ramen\nsoft-shell miso crab ramen\nburnt garlic tonkotsu ramen\nburnt garlic tonkotsu ramen\nmiso crab ramen\nmiso crab ramen\nshio ramen\nshio ramen\nnagomi shoyu\nnagomi shoyu\ntonkotsu ramen\ntonkotsu ramen\nshio ramen\nshio ramen\nsoft-shell miso crab ramen\nsoft-shell miso crab ramen\nspicy miso ramen\nspicy miso ramen\ntruffle butter ramen\ntruffle butter ramen\nburnt garlic tonkotsu ramen\nburnt garlic tonkotsu ramen\ntruffle butter ramen\ntruffle butter ramen\nvegetarian curry + king trumpet mushroom ramen\nvegetarian curry + king trumpet mushroom ramen\ntori paitan ramen\ntori paitan ramen\ntori paitan ramen\ntori paitan ramen\nnagomi shoyu\nnagomi shoyu\nburnt garlic tonkotsu ramen\nburnt garlic tonkotsu ramen\nvegetarian spicy miso\nvegetarian spicy miso\nmiso crab ramen\nmiso crab ramen\nshio ramen\nshio ramen\ntonkotsu ramen\ntonkotsu ramen\ntruffle butter ramen\ntruffle butter ramen\nsoft-shell miso crab ramen\nsoft-shell miso crab ramen\nspicy miso ramen\nspicy miso ramen\nshio ramen\nshio ramen\nspicy miso ramen\nspicy miso ramen\ntonkotsu ramen\ntonkotsu ramen\nnagomi shoyu\nnagomi shoyu\nvegetarian spicy miso\nvegetarian spicy miso\nnagomi shoyu\nnagomi shoyu\ntonkotsu ramen\ntonkotsu ramen\nshio ramen\nshio ramen\nvegetarian spicy miso\nvegetarian spicy miso\nmiso crab ramen\nmiso crab ramen\nvegetarian curry + king trumpet mushroom ramen\nvegetarian curry + king trumpet mushroom ramen\nsoft-shell miso crab ramen\nsoft-shell miso crab ramen\nsoft-shell miso crab ramen\nsoft-shell miso crab ramen\nmiso crab ramen\nmiso crab ramen\ntori paitan ramen\ntori paitan ramen\nvegetarian spicy miso\nvegetarian spicy miso\ntonkotsu ramen\ntonkotsu ramen\ntruffle butter ramen\ntruffle butter ramen\nshio ramen\nshio ramen\nshio ramen\nshio ramen\nmiso crab ramen\nmiso crab ramen\nmiso crab ramen\nmiso crab ramen\nburnt garlic tonkotsu ramen\nburnt garlic tonkotsu ramen\nshio ramen\nshio ramen\ntori paitan ramen\ntori paitan ramen\nvegetarian spicy miso\nvegetarian spicy miso\nnagomi shoyu\nnagomi shoyu\ntori paitan ramen\ntori paitan ramen\nnagomi shoyu\nnagomi shoyu\nvegetarian spicy miso\nvegetarian spicy miso\nsoft-shell miso crab ramen\nsoft-shell miso crab ramen\nspicy miso ramen\nspicy miso ramen\ntruffle butter ramen\ntruffle butter ramen\ntruffle butter ramen\ntruffle butter ramen\nburnt garlic tonkotsu ramen\nburnt garlic tonkotsu ramen\nburnt garlic tonkotsu ramen\nburnt garlic tonkotsu ramen\nmiso crab ramen\nmiso crab ramen\ntori paitan ramen\ntori paitan ramen\nspicy miso ramen\nspicy miso ramen\nburnt garlic tonkotsu ramen\nburnt garlic tonkotsu ramen\ntori paitan ramen\ntori paitan ramen\nshio ramen\nshio ramen\nvegetarian curry + king trumpet mushroom ramen\nvegetarian curry + king trumpet mushroom ramen\nnagomi shoyu\nnagomi shoyu\nmiso crab ramen\nmiso crab ramen\nshio ramen\nshio ramen\nmiso crab ramen\nmiso crab ramen\nspicy miso ramen\nspicy miso ramen\nshio ramen\nshio ramen\ntonkotsu ramen\ntonkotsu ramen\nnagomi shoyu\nnagomi shoyu\ntori paitan ramen\ntori paitan ramen\ntruffle butter ramen\ntruffle butter ramen\nvegetarian curry + king trumpet mushroom ramen\nvegetarian curry + king trumpet mushroom ramen\nshio ramen\nshio ramen\ntruffle butter ramen\ntruffle butter ramen\nvegetarian curry + king trumpet mushroom ramen\nvegetarian curry + king trumpet mushroom ramen\ntruffle butter ramen\ntruffle butter ramen\nvegetarian spicy miso\nvegetarian spicy miso\ntori paitan ramen\ntori paitan ramen\nvegetarian curry + king trumpet mushroom ramen\nvegetarian curry + king trumpet mushroom ramen\ntori paitan ramen\ntori paitan ramen\nvegetarian curry + king trumpet mushroom ramen\nvegetarian curry + king trumpet mushroom ramen\ntori paitan ramen\ntori paitan ramen\nvegetarian curry + king trumpet mushroom ramen\nvegetarian curry + king trumpet mushroom ramen\nspicy miso ramen\nspicy miso ramen\nvegetarian curry + king trumpet mushroom ramen\nvegetarian curry + king trumpet mushroom ramen\nmiso crab ramen\nmiso crab ramen\ntruffle butter ramen\ntruffle butter ramen\ntruffle butter ramen\ntruffle butter ramen\nvegetarian curry + king trumpet mushroom ramen\nvegetarian curry + king trumpet mushroom ramen\ntori paitan ramen\ntori paitan ramen\nvegetarian spicy miso\nvegetarian spicy miso\nvegetarian spicy miso\nvegetarian spicy miso\nspicy miso ramen\nspicy miso ramen\ntori paitan ramen\ntori paitan ramen\nspicy miso ramen\nspicy miso ramen\ntruffle butter ramen\ntruffle butter ramen\nvegetarian spicy miso\nvegetarian spicy miso\nburnt garlic tonkotsu ramen\nburnt garlic tonkotsu ramen\ntori paitan ramen\ntori paitan ramen\ntori paitan ramen\ntori paitan ramen\nsoft-shell miso crab ramen\nsoft-shell miso crab ramen\nshio ramen\nshio ramen\nsoft-shell miso crab ramen\nsoft-shell miso crab ramen\nshio ramen\nshio ramen\nvegetarian curry + king trumpet mushroom ramen\nvegetarian curry + king trumpet mushroom ramen\nvegetarian spicy miso\nvegetarian spicy miso\nvegetarian spicy miso\nvegetarian spicy miso\nshio ramen\nshio ramen\ntonkotsu ramen\ntonkotsu ramen\ntori paitan ramen\ntori paitan ramen\ntonkotsu ramen\ntonkotsu ramen\nburnt garlic tonkotsu ramen\nburnt garlic tonkotsu ramen\ntruffle butter ramen\ntruffle butter ramen\nsoft-shell miso crab ramen\nsoft-shell miso crab ramen\ntruffle butter ramen\ntruffle butter ramen\ntonkotsu ramen\ntonkotsu ramen\nshio ramen\nshio ramen\ntori paitan ramen\ntori paitan ramen\nvegetarian spicy miso\nvegetarian spicy miso\nvegetarian spicy miso\nvegetarian spicy miso\nmiso crab ramen\nmiso crab ramen\ntonkotsu ramen\ntonkotsu ramen\ntruffle butter ramen\ntruffle butter ramen\nburnt garlic tonkotsu ramen\nburnt garlic tonkotsu ramen\ntonkotsu ramen\ntonkotsu ramen\nnagomi shoyu\nnagomi shoyu\nshio ramen\nshio ramen\nmiso crab ramen\nmiso crab ramen\ntori paitan ramen\ntori paitan ramen\nsoft-shell miso crab ramen\nsoft-shell miso crab ramen\ntruffle butter ramen\ntruffle butter ramen\nvegetarian spicy miso\nvegetarian spicy miso\nmiso crab ramen\nmiso crab ramen\ntonkotsu ramen\ntonkotsu ramen\nvegetarian spicy miso\nvegetarian spicy miso\nmiso crab ramen\nmiso crab ramen\nburnt garlic tonkotsu ramen\nburnt garlic tonkotsu ramen\nmiso crab ramen\nmiso crab ramen\nvegetarian curry + king trumpet mushroom ramen\nvegetarian curry + king trumpet mushroom ramen\nburnt garlic tonkotsu ramen\nburnt garlic tonkotsu ramen\nmiso crab ramen\nmiso crab ramen\nmiso crab ramen\nmiso crab ramen\ntonkotsu ramen\ntonkotsu ramen\nsoft-shell miso crab ramen\nsoft-shell miso crab ramen\nmiso crab ramen\nmiso crab ramen\nspicy miso ramen\nspicy miso ramen\nmiso crab ramen\nmiso crab ramen\ntruffle butter ramen\ntruffle butter ramen\nmiso crab ramen\nmiso crab ramen\nspicy miso ramen\nspicy miso ramen\ntonkotsu ramen\ntonkotsu ramen\ntruffle butter ramen\ntruffle butter ramen\nvegetarian curry + king trumpet mushroom ramen\nvegetarian curry + king trumpet mushroom ramen\ntruffle butter ramen\ntruffle butter ramen\nshio ramen\nshio ramen\nspicy miso ramen\nspicy miso ramen\nnagomi shoyu\nnagomi shoyu\nsoft-shell miso crab ramen\nsoft-shell miso crab ramen\ntori paitan ramen\ntori paitan ramen\nnagomi shoyu\nnagomi shoyu\ntonkotsu ramen\ntonkotsu ramen\nshio ramen\nshio ramen\nspicy miso ramen\nspicy miso ramen\nnagomi shoyu\nnagomi shoyu\nvegetarian curry + king trumpet mushroom ramen\nvegetarian curry + king trumpet mushroom ramen\ntonkotsu ramen\ntonkotsu ramen\nsoft-shell miso crab ramen\nsoft-shell miso crab ramen\nsoft-shell miso crab ramen\nsoft-shell miso crab ramen\nspicy miso ramen\nspicy miso ramen\ntruffle butter ramen\ntruffle butter ramen\nsoft-shell miso crab ramen\nsoft-shell miso crab ramen\ntori paitan ramen\ntori paitan ramen\nburnt garlic tonkotsu ramen\nburnt garlic tonkotsu ramen\nshio ramen\nshio ramen\nvegetarian spicy miso\nvegetarian spicy miso\nmiso crab ramen\nmiso crab ramen\nburnt garlic tonkotsu ramen\nburnt garlic tonkotsu ramen\nshio ramen\nshio ramen\nsoft-shell miso crab ramen\nsoft-shell miso crab ramen\nnagomi shoyu\nnagomi shoyu\nnagomi shoyu\nnagomi shoyu\ntori paitan ramen\ntori paitan ramen\nburnt garlic tonkotsu ramen\nburnt garlic tonkotsu ramen\nshio ramen\nshio ramen\nshio ramen\nshio ramen\nnagomi shoyu\nnagomi shoyu\ntonkotsu ramen\ntonkotsu ramen\nburnt garlic tonkotsu ramen\nburnt garlic tonkotsu ramen\nvegetarian curry + king trumpet mushroom ramen\nvegetarian curry + king trumpet mushroom ramen\ntori paitan ramen\ntori paitan ramen\nburnt garlic tonkotsu ramen\nburnt garlic tonkotsu ramen\ntruffle butter ramen\ntruffle butter ramen\nsoft-shell miso crab ramen\nsoft-shell miso crab ramen\nburnt garlic tonkotsu ramen\nburnt garlic tonkotsu ramen\nvegetarian curry + king trumpet mushroom ramen\nvegetarian curry + king trumpet mushroom ramen\nnagomi shoyu\nnagomi shoyu\ntruffle butter ramen\ntruffle butter ramen\nburnt garlic tonkotsu ramen\nburnt garlic tonkotsu ramen\nburnt garlic tonkotsu ramen\nburnt garlic tonkotsu ramen\nspicy miso ramen\nspicy miso ramen\nshio ramen\nshio ramen\ntonkotsu ramen\ntonkotsu ramen\ntruffle butter ramen\ntruffle butter ramen\nvegetarian spicy miso\nvegetarian spicy miso\nnagomi shoyu\nnagomi shoyu\ntonkotsu ramen\ntonkotsu ramen\ntruffle butter ramen\ntruffle butter ramen\ntori paitan ramen\ntori paitan ramen\nvegetarian curry + king trumpet mushroom ramen"
    },
    {
     "output_type": "error",
     "ename": "KeyboardInterrupt",
     "evalue": "",
     "traceback": [
      "\u001b[1;31m---------------------------------------------------------------------------\u001b[0m",
      "\u001b[1;31mKeyboardInterrupt\u001b[0m                         Traceback (most recent call last)",
      "\u001b[1;32m<ipython-input-41-4bb781f3741c>\u001b[0m in \u001b[0;36m<module>\u001b[1;34m\u001b[0m\n\u001b[0;32m     48\u001b[0m \u001b[1;33m\u001b[0m\u001b[0m\n\u001b[0;32m     49\u001b[0m             \u001b[1;31m# Print out matching menu data\u001b[0m\u001b[1;33m\u001b[0m\u001b[1;33m\u001b[0m\u001b[1;33m\u001b[0m\u001b[0m\n\u001b[1;32m---> 50\u001b[1;33m             \u001b[0mprint\u001b[0m\u001b[1;33m(\u001b[0m\u001b[0mmenu_item\u001b[0m\u001b[1;33m[\u001b[0m\u001b[1;36m0\u001b[0m\u001b[1;33m]\u001b[0m\u001b[1;33m)\u001b[0m\u001b[1;33m\u001b[0m\u001b[1;33m\u001b[0m\u001b[0m\n\u001b[0m\u001b[0;32m     51\u001b[0m \u001b[1;33m\u001b[0m\u001b[0m\n\u001b[0;32m     52\u001b[0m             \u001b[1;31m# Cumulatively add up the metrics for each item key\u001b[0m\u001b[1;33m\u001b[0m\u001b[1;33m\u001b[0m\u001b[1;33m\u001b[0m\u001b[0m\n",
      "\u001b[1;32m~\\anaconda3\\lib\\site-packages\\ipykernel\\iostream.py\u001b[0m in \u001b[0;36mwrite\u001b[1;34m(self, string)\u001b[0m\n\u001b[0;32m    402\u001b[0m             \u001b[0mis_child\u001b[0m \u001b[1;33m=\u001b[0m \u001b[1;33m(\u001b[0m\u001b[1;32mnot\u001b[0m \u001b[0mself\u001b[0m\u001b[1;33m.\u001b[0m\u001b[0m_is_master_process\u001b[0m\u001b[1;33m(\u001b[0m\u001b[1;33m)\u001b[0m\u001b[1;33m)\u001b[0m\u001b[1;33m\u001b[0m\u001b[1;33m\u001b[0m\u001b[0m\n\u001b[0;32m    403\u001b[0m             \u001b[1;31m# only touch the buffer in the IO thread to avoid races\u001b[0m\u001b[1;33m\u001b[0m\u001b[1;33m\u001b[0m\u001b[1;33m\u001b[0m\u001b[0m\n\u001b[1;32m--> 404\u001b[1;33m             \u001b[0mself\u001b[0m\u001b[1;33m.\u001b[0m\u001b[0mpub_thread\u001b[0m\u001b[1;33m.\u001b[0m\u001b[0mschedule\u001b[0m\u001b[1;33m(\u001b[0m\u001b[1;32mlambda\u001b[0m \u001b[1;33m:\u001b[0m \u001b[0mself\u001b[0m\u001b[1;33m.\u001b[0m\u001b[0m_buffer\u001b[0m\u001b[1;33m.\u001b[0m\u001b[0mwrite\u001b[0m\u001b[1;33m(\u001b[0m\u001b[0mstring\u001b[0m\u001b[1;33m)\u001b[0m\u001b[1;33m)\u001b[0m\u001b[1;33m\u001b[0m\u001b[1;33m\u001b[0m\u001b[0m\n\u001b[0m\u001b[0;32m    405\u001b[0m             \u001b[1;32mif\u001b[0m \u001b[0mis_child\u001b[0m\u001b[1;33m:\u001b[0m\u001b[1;33m\u001b[0m\u001b[1;33m\u001b[0m\u001b[0m\n\u001b[0;32m    406\u001b[0m                 \u001b[1;31m# mp.Pool cannot be trusted to flush promptly (or ever),\u001b[0m\u001b[1;33m\u001b[0m\u001b[1;33m\u001b[0m\u001b[1;33m\u001b[0m\u001b[0m\n",
      "\u001b[1;32m~\\anaconda3\\lib\\site-packages\\ipykernel\\iostream.py\u001b[0m in \u001b[0;36mschedule\u001b[1;34m(self, f)\u001b[0m\n\u001b[0;32m    203\u001b[0m             \u001b[0mself\u001b[0m\u001b[1;33m.\u001b[0m\u001b[0m_events\u001b[0m\u001b[1;33m.\u001b[0m\u001b[0mappend\u001b[0m\u001b[1;33m(\u001b[0m\u001b[0mf\u001b[0m\u001b[1;33m)\u001b[0m\u001b[1;33m\u001b[0m\u001b[1;33m\u001b[0m\u001b[0m\n\u001b[0;32m    204\u001b[0m             \u001b[1;31m# wake event thread (message content is ignored)\u001b[0m\u001b[1;33m\u001b[0m\u001b[1;33m\u001b[0m\u001b[1;33m\u001b[0m\u001b[0m\n\u001b[1;32m--> 205\u001b[1;33m             \u001b[0mself\u001b[0m\u001b[1;33m.\u001b[0m\u001b[0m_event_pipe\u001b[0m\u001b[1;33m.\u001b[0m\u001b[0msend\u001b[0m\u001b[1;33m(\u001b[0m\u001b[1;34mb''\u001b[0m\u001b[1;33m)\u001b[0m\u001b[1;33m\u001b[0m\u001b[1;33m\u001b[0m\u001b[0m\n\u001b[0m\u001b[0;32m    206\u001b[0m         \u001b[1;32melse\u001b[0m\u001b[1;33m:\u001b[0m\u001b[1;33m\u001b[0m\u001b[1;33m\u001b[0m\u001b[0m\n\u001b[0;32m    207\u001b[0m             \u001b[0mf\u001b[0m\u001b[1;33m(\u001b[0m\u001b[1;33m)\u001b[0m\u001b[1;33m\u001b[0m\u001b[1;33m\u001b[0m\u001b[0m\n",
      "\u001b[1;32m~\\anaconda3\\lib\\site-packages\\zmq\\sugar\\socket.py\u001b[0m in \u001b[0;36msend\u001b[1;34m(self, data, flags, copy, track, routing_id, group)\u001b[0m\n\u001b[0;32m    414\u001b[0m                                  copy_threshold=self.copy_threshold)\n\u001b[0;32m    415\u001b[0m             \u001b[0mdata\u001b[0m\u001b[1;33m.\u001b[0m\u001b[0mgroup\u001b[0m \u001b[1;33m=\u001b[0m \u001b[0mgroup\u001b[0m\u001b[1;33m\u001b[0m\u001b[1;33m\u001b[0m\u001b[0m\n\u001b[1;32m--> 416\u001b[1;33m         \u001b[1;32mreturn\u001b[0m \u001b[0msuper\u001b[0m\u001b[1;33m(\u001b[0m\u001b[0mSocket\u001b[0m\u001b[1;33m,\u001b[0m \u001b[0mself\u001b[0m\u001b[1;33m)\u001b[0m\u001b[1;33m.\u001b[0m\u001b[0msend\u001b[0m\u001b[1;33m(\u001b[0m\u001b[0mdata\u001b[0m\u001b[1;33m,\u001b[0m \u001b[0mflags\u001b[0m\u001b[1;33m=\u001b[0m\u001b[0mflags\u001b[0m\u001b[1;33m,\u001b[0m \u001b[0mcopy\u001b[0m\u001b[1;33m=\u001b[0m\u001b[0mcopy\u001b[0m\u001b[1;33m,\u001b[0m \u001b[0mtrack\u001b[0m\u001b[1;33m=\u001b[0m\u001b[0mtrack\u001b[0m\u001b[1;33m)\u001b[0m\u001b[1;33m\u001b[0m\u001b[1;33m\u001b[0m\u001b[0m\n\u001b[0m\u001b[0;32m    417\u001b[0m \u001b[1;33m\u001b[0m\u001b[0m\n\u001b[0;32m    418\u001b[0m     \u001b[1;32mdef\u001b[0m \u001b[0msend_multipart\u001b[0m\u001b[1;33m(\u001b[0m\u001b[0mself\u001b[0m\u001b[1;33m,\u001b[0m \u001b[0mmsg_parts\u001b[0m\u001b[1;33m,\u001b[0m \u001b[0mflags\u001b[0m\u001b[1;33m=\u001b[0m\u001b[1;36m0\u001b[0m\u001b[1;33m,\u001b[0m \u001b[0mcopy\u001b[0m\u001b[1;33m=\u001b[0m\u001b[1;32mTrue\u001b[0m\u001b[1;33m,\u001b[0m \u001b[0mtrack\u001b[0m\u001b[1;33m=\u001b[0m\u001b[1;32mFalse\u001b[0m\u001b[1;33m,\u001b[0m \u001b[1;33m**\u001b[0m\u001b[0mkwargs\u001b[0m\u001b[1;33m)\u001b[0m\u001b[1;33m:\u001b[0m\u001b[1;33m\u001b[0m\u001b[1;33m\u001b[0m\u001b[0m\n",
      "\u001b[1;32mzmq/backend/cython/socket.pyx\u001b[0m in \u001b[0;36mzmq.backend.cython.socket.Socket.send\u001b[1;34m()\u001b[0m\n",
      "\u001b[1;32mzmq/backend/cython/socket.pyx\u001b[0m in \u001b[0;36mzmq.backend.cython.socket.Socket.send\u001b[1;34m()\u001b[0m\n",
      "\u001b[1;32mzmq/backend/cython/socket.pyx\u001b[0m in \u001b[0;36mzmq.backend.cython.socket._send_copy\u001b[1;34m()\u001b[0m\n",
      "\u001b[1;32m~\\anaconda3\\lib\\site-packages\\zmq\\backend\\cython\\checkrc.pxd\u001b[0m in \u001b[0;36mzmq.backend.cython.checkrc._check_rc\u001b[1;34m()\u001b[0m\n",
      "\u001b[1;31mKeyboardInterrupt\u001b[0m: "
     ]
    }
   ],
   "source": [
    "# @TODO: Loop over every row in the sales list object\n",
    "for sales_item in sales:\n",
    "\n",
    "    # Line_Item_ID,Date,Credit_Card_Number,Quantity,Menu_Item\n",
    "    # Initialize sales data variables\n",
    "    line_item_id = 0\n",
    "    date = \"\"\n",
    "    credit_card_number = 0\n",
    "    quantity = 0\n",
    "    menu_item = \"\"\n",
    "    \n",
    "    # If the item value is not in the report, add it as a new entry with initialized metrics\n",
    "    # Naming convention allows the keys to be ordered in logical fashion, count, revenue, cost, profit\n",
    "    if sales_item[4] not in report:\n",
    "        report[sales_item[4]] = {\n",
    "            \"1-count\": 0,\n",
    "            \"2-revenue\": 0,\n",
    "            \"3-cogs\": 0,\n",
    "            \"4-profit\": 0,\n",
    "            }\n",
    "\n",
    "    # For every row in our sales data, loop over the menu records to determine a match\n",
    "    for menu_item in menu:\n",
    "                    \n",
    "        # Item,Category,Description,Price,Cost\n",
    "        # Initialize menu data variables\n",
    "        item = \"\"\n",
    "        category = \"\"\n",
    "        description = \"\"\n",
    "        price = 0\n",
    "        cost = 0\n",
    "\n",
    "        # If the item value in our sales data is equal to any of the items in the menu, then begin tracking metrics for that item\n",
    "        if sales_item[4] == menu_item[0]:\n",
    "            \n",
    "            # Calculate profit of each item in the menu data\n",
    "            # Capture sales quantity\n",
    "            quantity = int(sales_item[3])\n",
    "            \n",
    "            # Capture menu price\n",
    "            price = int(menu_item[3])\n",
    "\n",
    "            # Capture menu cost\n",
    "            cost = int(menu_item[4])\n",
    "            \n",
    "            # Profit calculation and assignment\n",
    "            profit = (price - cost) * quantity\n",
    "\n",
    "            # Print out matching menu data\n",
    "            print(menu_item[0])\n",
    "            \n",
    "            # Cumulatively add up the metrics for each item key\n",
    "            report[sales_item[4]][\"1-count\"] = report[sales_item[4]][\"1-count\"] + quantity\n",
    "            report[sales_item[4]][\"2-revenue\"] = report[sales_item[4]][\"2-revenue\"] + (price * quantity)\n",
    "            report[sales_item[4]][\"3-cogs\"] = report[sales_item[4]][\"3-cogs\"] + (cost * quantity)\n",
    "            report[sales_item[4]][\"4-profit\"] = report[sales_item[4]][\"4-profit\"] + (profit * quantity)\n",
    "\n",
    "        # @TODO: Else, the sales item does not equal any of the item in the menu data, therefore no match\n",
    "        \n",
    "\n",
    "    # @TODO: Increment the row counter by 1\n",
    "    "
   ]
  },
  {
   "cell_type": "code",
   "execution_count": null,
   "metadata": {},
   "outputs": [],
   "source": []
  },
  {
   "cell_type": "code",
   "execution_count": 21,
   "metadata": {},
   "outputs": [],
   "source": [
    "\n",
    "# @TODO: Print total number of records in sales data\n",
    "\n",
    "\n",
    "# @TODO: Write out report to a text file (won't appear on the command line output)\n"
   ]
  }
 ]
}