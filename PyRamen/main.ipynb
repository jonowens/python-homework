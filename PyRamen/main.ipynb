{
 "metadata": {
  "language_info": {
   "codemirror_mode": {
    "name": "ipython",
    "version": 3
   },
   "file_extension": ".py",
   "mimetype": "text/x-python",
   "name": "python",
   "nbconvert_exporter": "python",
   "pygments_lexer": "ipython3",
   "version": "3.8.5-final"
  },
  "orig_nbformat": 2,
  "kernelspec": {
   "name": "Python 3.8.5 64-bit ('base': conda)",
   "display_name": "Python 3.8.5 64-bit ('base': conda)",
   "metadata": {
    "interpreter": {
     "hash": "600c25c12856a842ab64bd468beca1647a20977f2accb2696f130eafa2c53eb8"
    }
   }
  }
 },
 "nbformat": 4,
 "nbformat_minor": 2,
 "cells": [
  {
   "cell_type": "code",
   "execution_count": null,
   "metadata": {},
   "outputs": [],
   "source": [
    "# -*- coding: utf-8 -*-\n"
   ]
  },
  {
   "source": [
    "# PyRamen Sales Assistance\n",
    "\n",
    "### Description: \n",
    "* The following task is to help PyRamen analyze sales data and cross reference it with manu data.  Two data files have been provided, menu_data.csv and sales_data.csv, to help with the analysis.  The following code below will analyze and calculate various metrics along manipulating the data to help automate the calculations.\n"
   ],
   "cell_type": "markdown",
   "metadata": {}
  },
  {
   "cell_type": "code",
   "execution_count": null,
   "metadata": {},
   "outputs": [],
   "source": [
    "# Import necessary libraries\n",
    "from pathlib import Path\n",
    "import csv\n"
   ]
  },
  {
   "cell_type": "code",
   "execution_count": null,
   "metadata": {},
   "outputs": [],
   "source": [
    "# Set file paths for menu_data.csv and sales_data.csv\n",
    "menu_filepath = Path('./Resources/menu_data.csv')\n",
    "sales_filepath = Path('./Resources/sales_data.csv')"
   ]
  },
  {
   "cell_type": "code",
   "execution_count": null,
   "metadata": {},
   "outputs": [],
   "source": [
    "# Initialize variables\n",
    "# List object to hold menu data\n",
    "menu = []\n",
    "# List object tol hold sales data\n",
    "sales = []\n"
   ]
  },
  {
   "cell_type": "code",
   "execution_count": null,
   "metadata": {},
   "outputs": [],
   "source": [
    "def create_list_of_lists_from_csv(csv_file_path):\n",
    "\n",
    "    # Initialize variables\n",
    "    list_of_lists = []\n",
    "    a_list = []\n",
    "    nested_lists_count = 0\n",
    "    data_value = \"\"\n",
    "    list_value = []\n",
    "\n",
    "    # Open data in specified path as csv_file \n",
    "    with open(csv_file_path, 'r') as csv_file:\n",
    "\n",
    "        # Read data from csv_file knowing the data is ',' delimited and assign to csvreader variable\n",
    "        csvreader = csv.reader(csv_file, delimiter=',')\n",
    "\n",
    "        # Store data header and go to next line\n",
    "        header = next(csvreader)\n",
    "        \n",
    "        # Iterate through each line of csvreader\n",
    "        for row in csvreader:\n",
    "            \n",
    "            # Loop through items in row\n",
    "            for an_item in row:\n",
    "\n",
    "                # Assign current item to variable\n",
    "                data_value = an_item\n",
    "\n",
    "                # Appending variable value to list\n",
    "                a_list.append(data_value)\n",
    "            \n",
    "            # Assign a list to variable\n",
    "            list_value = a_list\n",
    "            \n",
    "            # Append list to list of lists\n",
    "            list_of_lists.append(list_value)\n",
    "\n",
    "            # Clear values from list and list temporary variable\n",
    "            a_list = []\n",
    "            list_value = []\n",
    "\n",
    "    # Return list of lists\n",
    "    return list_of_lists\n"
   ]
  },
  {
   "cell_type": "code",
   "execution_count": null,
   "metadata": {
    "tags": []
   },
   "outputs": [],
   "source": [
    "# Read in the menu data into the menu list\n",
    "menu = create_list_of_lists_from_csv(menu_filepath)\n"
   ]
  },
  {
   "cell_type": "code",
   "execution_count": null,
   "metadata": {
    "tags": []
   },
   "outputs": [],
   "source": [
    "# Read in the sales data into the sales list\n",
    "sales = create_list_of_lists_from_csv(sales_filepath)\n"
   ]
  },
  {
   "cell_type": "code",
   "execution_count": null,
   "metadata": {},
   "outputs": [],
   "source": [
    "# Initialize dict object to hold our key-value pairs of items and metrics\n",
    "report = {}\n"
   ]
  },
  {
   "cell_type": "code",
   "execution_count": null,
   "metadata": {
    "tags": []
   },
   "outputs": [],
   "source": [
    "# Initialize a row counter variable\n",
    "row_count = 0\n"
   ]
  },
  {
   "cell_type": "code",
   "execution_count": null,
   "metadata": {
    "tags": [
     "outputPrepend"
    ]
   },
   "outputs": [],
   "source": [
    "# @TODO: Loop over every row in the sales list object\n",
    "for sales_item in sales:\n",
    "\n",
    "    # Line_Item_ID,Date,Credit_Card_Number,Quantity,Menu_Item\n",
    "    # Initialize sales data variables\n",
    "    line_item_id = 0\n",
    "    date = \"\"\n",
    "    credit_card_number = 0\n",
    "    quantity = 0\n",
    "    menu_item = \"\"\n",
    "    \n",
    "    # If the item value is not in the report, add it as a new entry with initialized metrics\n",
    "    # Naming convention allows the keys to be ordered in logical fashion, count, revenue, cost, profit\n",
    "    if sales_item[4] not in report:\n",
    "        report[sales_item[4]] = {\n",
    "            \"01-count\": 0,\n",
    "            \"02-revenue\": 0,\n",
    "            \"03-cogs\": 0,\n",
    "            \"04-profit\": 0,\n",
    "            }\n",
    "    # For every row in our sales data, loop over the menu records to determine a match\n",
    "    for menu_item in menu:\n",
    "                    \n",
    "        # Item,Category,Description,Price,Cost\n",
    "        # Initialize menu data variables\n",
    "        item = \"\"\n",
    "        category = \"\"\n",
    "        description = \"\"\n",
    "        price = 0\n",
    "        cost = 0\n",
    "\n",
    "        # If the item value in our sales data is equal to any of the items in the menu, then begin tracking metrics for that item\n",
    "        if sales_item[4] == menu_item[0]:\n",
    "\n",
    "            # Calculate profit of each item in the menu data\n",
    "            # Capture sales quantity\n",
    "            quantity = int(sales_item[3])\n",
    "            \n",
    "            # Capture menu price\n",
    "            price = float(menu_item[3])\n",
    "\n",
    "            # Capture menu cost\n",
    "            cost = float(menu_item[4])\n",
    "            \n",
    "            # Profit calculation and assignment\n",
    "            profit = (price - cost) * quantity\n",
    "\n",
    "            # Print out matching menu data\n",
    "            print(menu_item[0])\n",
    "\n",
    "            # @TODO: Cumulatively add up the metrics for each item key\n",
    "            report[sales_item][\"01-count\"] += quantity\n",
    "            report[sales_item][\"02-revenue\"] += price * quantity\n",
    "            report[sales_item][\"03-cogs\"] += cost * quantity\n",
    "            report[sales_item][\"04-profit\"] += profit * quantity\n",
    "\n",
    "        # @TODO: Else, the sales item does not equal any fo the item in the menu data, therefore no match\n",
    "\n",
    "\n",
    "    # @TODO: Increment the row counter by 1\n",
    "    "
   ]
  },
  {
   "cell_type": "code",
   "execution_count": null,
   "metadata": {},
   "outputs": [],
   "source": []
  },
  {
   "cell_type": "code",
   "execution_count": null,
   "metadata": {},
   "outputs": [],
   "source": [
    "\n",
    "# @TODO: Print total number of records in sales data\n",
    "\n",
    "\n",
    "# @TODO: Write out report to a text file (won't appear on the command line output)\n"
   ]
  }
 ]
}