{
 "metadata": {
  "language_info": {
   "codemirror_mode": {
    "name": "ipython",
    "version": 3
   },
   "file_extension": ".py",
   "mimetype": "text/x-python",
   "name": "python",
   "nbconvert_exporter": "python",
   "pygments_lexer": "ipython3",
   "version": "3.8.5-final"
  },
  "orig_nbformat": 2,
  "kernelspec": {
   "name": "Python 3.8.5 64-bit ('base': conda)",
   "display_name": "Python 3.8.5 64-bit ('base': conda)",
   "metadata": {
    "interpreter": {
     "hash": "600c25c12856a842ab64bd468beca1647a20977f2accb2696f130eafa2c53eb8"
    }
   }
  }
 },
 "nbformat": 4,
 "nbformat_minor": 2,
 "cells": [
  {
   "cell_type": "code",
   "execution_count": null,
   "metadata": {},
   "outputs": [],
   "source": [
    "# -*- coding: utf-8 -*-\n"
   ]
  },
  {
   "source": [
    "# PyRamen Sales Assistance\n",
    "\n",
    "### Description: \n",
    "* The following task is to help PyRamen analyze sales data and cross reference it with manu data.  Two data files have been provided, menu_data.csv and sales_data.csv, to help with the analysis.  The following code below will analyze and calculate various metrics along manipulating the data to help automate the calculations.\n"
   ],
   "cell_type": "markdown",
   "metadata": {}
  },
  {
   "cell_type": "code",
   "execution_count": null,
   "metadata": {},
   "outputs": [],
   "source": [
    "# Import necessary libraries\n",
    "from pathlib import Path\n",
    "import csv\n"
   ]
  },
  {
   "cell_type": "code",
   "execution_count": null,
   "metadata": {},
   "outputs": [],
   "source": [
    "# Set file paths for menu_data.csv and sales_data.csv\n",
    "menu_filepath = Path('./Resources/menu_data.csv')\n",
    "sales_filepath = Path('./Resources/sales_data.csv')"
   ]
  },
  {
   "cell_type": "code",
   "execution_count": null,
   "metadata": {},
   "outputs": [],
   "source": [
    "# Initialize variables\n",
    "menu = []\n",
    "sales = []\n"
   ]
  },
  {
   "cell_type": "code",
   "execution_count": 17,
   "metadata": {},
   "outputs": [],
   "source": [
    "def create_list_of_lists_from_csv(csv_file_path):\n",
    "\n",
    "    # Initialize variables\n",
    "    list_of_lists = []\n",
    "    a_list = []\n",
    "    nested_lists_count = 0\n",
    "    data_value = \"\"\n",
    "\n",
    "    # Open data in specified path as csv_file \n",
    "    with open(csv_file_path, 'r') as csv_file:\n",
    "\n",
    "        # Read data from csv_file knowing the data is ',' delimited and assign to csvreader variable\n",
    "        csvreader = csv.reader(csv_file, delimiter=',')\n",
    "\n",
    "        # Store data header and go to next line\n",
    "        header = next(csvreader)\n",
    "        \n",
    "        # Iterate through each line of csvreader\n",
    "        for row in csvreader:\n",
    "            \n",
    "            # Loop through items in row\n",
    "            for an_item in row:\n",
    "                \n",
    "                # Assign current item to variable\n",
    "                data_value = an_item\n",
    "                print(f\"{data_value} item\")\n",
    "    \n",
    "    return list_of_lists\n"
   ]
  },
  {
   "cell_type": "code",
   "execution_count": 18,
   "metadata": {
    "tags": []
   },
   "outputs": [
    {
     "output_type": "stream",
     "name": "stdout",
     "text": "edamame item\nappetizers item\nboiled soybeans, maldon sea salt item\n4 item\n1 item\nhouse salad item\nappetizers item\nmixed greens, cherry tomatoes, cucumber, house ginger dressing item\n4 item\n2 item\ncucumber sunomono salad item\nappetizers item\ncucumber, ponzu dressing, pickled ginger sproud, sesame seeds item\n5 item\n2 item\nhiyashi wakame seaweed salad item\nappetizers item\nsweet soy-marinated wakame seaweed threads, pickled ginger sprout, sesame seeds item\n5 item\n2 item\nagedashi tofu item\nappetizers item\ntempura battered tofu, katsuobushi, tsuyu broth, scallions item\n5 item\n2 item\nhiyayakko tofu item\nappetizers item\nchilled soft tofu, house shoyu, katsuobushi, ginger, scallions item\n5 item\n2 item\npork floss bao item\nappetizers item\ntwo steamed buns, minced lean slow braised niman, ranch pork belly, cucumbers, sriracha mayo item\n4 item\n2 item\nkakuni bao item\nappetizers item\ntwo steamed buns, chopped fatty slow braised niman ranch pork belly, cucumbers, house bao sauce item\n6 item\n3 item\nedamame fried gyoza (vegan) item\nappetizers item\nsix crispy fried edamame and cabbage pot stickers; ponzu rayu dipping sauce item\n6 item\n3 item\nfried gyoza item\nappetizers item\nsix cripsy fried pork and vegetable pot stickers; ponzu rayu dipping sauce item\n6 item\n6 item\ntakoyaki item\nappetizers item\nsix octopus-filled fried fritters, kewpie mayo, okonomi sauce, aonori, katsuobushi, nori item\n6 item\n3 item\nrock shrimp tempura item\nappetizers item\ndeep fried tempura battered rock shrimp, sriracha mayo, nisume sauce, aonori, scallions item\n6 item\n3 item\nsoft-shell crab tempura item\nappetizers item\nsingle deep fried soft-shell crab, tsuyu dipping broth item\n6 item\n3 item\nebi katsu shrimp bao item\nappetizers item\ntwo steamed buns, panko-crusted fried shrimp patties, yuzu-kosho mayo, aonori, scallions item\n6 item\n3 item\nnagomi shoyu item\nentree item\nshoyu seasoned clear double stock (organic chick broth + house dashi); slow braised niman ranch pork belly, hanjuku tamago, nori, menma, scallions item\n11 item\n5 item\nshio ramen item\nentree item\nsea salt seasoned clear double stock (organic chicken broth + house dashi); slow braised niman ranch pork belly, hanjuku tamago, kikurage, nori, scallions item\n11 item\n5 item\nspicy miso ramen item\nentree item\nhouse togarashi miso blend + niman ranch pork bone stock; slow braised niman ranch pork belly, hanjuku tamago, kikurage, nori, scallions item\n12 item\n5 item\nvegetarian spicy miso item\nentree item\nhouse togarashi miso blend + vegan dashi; tempura fried tofu, sweet corn, edamame, kikurage, nori, scallions; organic soy milk upon request item\n12 item\n5 item\nmiso crab ramen item\nentree item\nhouse miso crab blend + vegan dashi; slow braised niman ranch pork belly, crab meat, hanjuku tamago, kikurage, nori, scallions item\n12 item\n6 item\nsoft-shell miso crab ramen item\nentree item\nhouse miso crab blend + vegan dashi; fried whole soft-shell crab, hanjuku tamago, kikurage, nori, scallions item\n14 item\n7 item\ntori paitan ramen item\nentree item\nrich, shoyu seasoned double stock (organic chicken broth + house dashi); slow braised niman ranch pork belly, hanuku tamago, kikurage, nori, scllaions item\n13 item\n6 item\ntonkotsu ramen item\nentree item\nrich, shoyi seasoned niman ranch pork bone stock; slow braised niman ranch pork belly, hanjuku tamago, kikurage, nori, spring radish, scallions item\n13 item\n6 item\nburnt garlic tonkotsu ramen item\nentree item\nrich, shoyi and burnt garlic seasoned niman ranch pork bone stock; slow braised niman ranch pork belly, hanjuku tamago, kikurage, sweet corn, nori, scallions item\n14 item\n6 item\nvegetarian curry + king trumpet mushroom ramen item\nentree item\nhouse curry blend + vegan dashi; fried king trumpet mushroom, tempura fried tofu, mung bean sprouts, kikurage, nori, scallions item\n13 item\n7 item\ntruffle butter ramen item\nentree item\nrich, shoyu seasoned niman ranch prok bone stock; truffle compound butter, slow braised niman ranch pork belly, kikurage, sweet corn, nori, scallions item\n14 item\n7 item\ngreen tea item\ndrinks item\ngreen tea item\n2.5 item\n1 item\ncoke item\ndrinks item\nCoca Cola soda item\n2 item\n1 item\nblack sesame ice cream item\ndesserts item\nhouse-made black sesame ice cream, valrhona chocolate threads, complimentary hojicha item\n5 item\n2 item\nmatcha ice cream item\ndesserts item\nhouse-made matcha ice cream, white chocolate pearls; complimentary hojicha item\n5 item\n2 item\nmango mochi ice cream item\ndesserts item\ntwo rice-cake bonbons filled with strawberry ice cream; complimentary hojicha item\n5 item\n2 item\nstrawberry mochi ice cream item\ndesserts item\ntwo rice-cake bonbons filled with strawberry ice cream; complimentary hojicha item\n5 item\n2 item\nblack sesame creme brulee item\ndesserts item\nhouse made black sesame infused creme brulee; complimentary hojicha item\n6 item\n3 item\n[]\n"
    }
   ],
   "source": [
    "# Read in the menu data into the menu list\n",
    "menu = create_list_of_lists_from_csv(menu_filepath)\n",
    "print(menu)\n"
   ]
  },
  {
   "cell_type": "code",
   "execution_count": null,
   "metadata": {
    "tags": [
     "outputPrepend"
    ]
   },
   "outputs": [],
   "source": [
    "# Read in the sales data into the sales list\n",
    "sales = create_list_of_lists_from_csv(sales_filepath)\n",
    "print(sales)"
   ]
  },
  {
   "cell_type": "code",
   "execution_count": null,
   "metadata": {},
   "outputs": [],
   "source": [
    "# @TODO: Initialize dict object to hold our key-value pairs of items and metrics\n",
    "report = {}\n"
   ]
  },
  {
   "cell_type": "code",
   "execution_count": null,
   "metadata": {
    "tags": []
   },
   "outputs": [],
   "source": [
    "# Initialize a row counter variable\n",
    "row_count = 0\n"
   ]
  },
  {
   "cell_type": "code",
   "execution_count": null,
   "metadata": {},
   "outputs": [],
   "source": [
    "# @TODO: Loop over every row in the sales list object\n",
    "\n",
    "    # Line_Item_ID,Date,Credit_Card_Number,Quantity,Menu_Item\n",
    "    # @TODO: Initialize sales data variables\n",
    "\n",
    "\n",
    "    # @TODO:\n",
    "    # If the item value not in the report, add it as a new entry with initialized metrics\n",
    "    # Naming convention allows the keys to be ordered in logical fashion, count, revenue, cost, profit\n",
    "\n",
    "\n",
    "    # @TODO: For every row in our sales data, loop over the menu records to determine a match\n",
    "\n",
    "\n",
    "        # Item,Category,Description,Price,Cost\n",
    "        # @TODO: Initialize menu data variables\n",
    "\n",
    "\n",
    "        # @TODO: Calculate profit of each item in the menu data\n",
    "\n",
    "\n",
    "        # @TODO: If the item value in our sales data is equal to the any of the items in the menu, then begin tracking metrics for that item\n",
    "\n",
    "\n",
    "            # @TODO: Print out matching menu data\n",
    "\n",
    "\n",
    "            # @TODO: Cumulatively add up the metrics for each item key\n",
    "\n",
    "\n",
    "        # @TODO: Else, the sales item does not equal any fo the item in the menu data, therefore no match\n",
    "\n",
    "\n",
    "    # @TODO: Increment the row counter by 1\n",
    "\n",
    "\n",
    "# @TODO: Print total number of records in sales data\n",
    "\n",
    "\n",
    "# @TODO: Write out report to a text file (won't appear on the command line output)\n"
   ]
  }
 ]
}