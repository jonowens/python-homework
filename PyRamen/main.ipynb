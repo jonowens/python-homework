{
 "metadata": {
  "language_info": {
   "codemirror_mode": {
    "name": "ipython",
    "version": 3
   },
   "file_extension": ".py",
   "mimetype": "text/x-python",
   "name": "python",
   "nbconvert_exporter": "python",
   "pygments_lexer": "ipython3",
   "version": "3.8.5-final"
  },
  "orig_nbformat": 2,
  "kernelspec": {
   "name": "Python 3.8.5 64-bit ('base': conda)",
   "display_name": "Python 3.8.5 64-bit ('base': conda)",
   "metadata": {
    "interpreter": {
     "hash": "600c25c12856a842ab64bd468beca1647a20977f2accb2696f130eafa2c53eb8"
    }
   }
  }
 },
 "nbformat": 4,
 "nbformat_minor": 2,
 "cells": [
  {
   "cell_type": "code",
   "execution_count": null,
   "metadata": {},
   "outputs": [],
   "source": [
    "# -*- coding: utf-8 -*-\n"
   ]
  },
  {
   "source": [
    "# PyRamen Sales Assistance\n",
    "\n",
    "### Description: \n",
    "* The following task is to help PyRamen analyze sales data and cross reference it with manu data.  Two data files have been provided, menu_data.csv and sales_data.csv, to help with the analysis.  The following code below will analyze and calculate various metrics along manipulating the data to help automate the calculations.\n"
   ],
   "cell_type": "markdown",
   "metadata": {}
  },
  {
   "cell_type": "code",
   "execution_count": null,
   "metadata": {},
   "outputs": [],
   "source": [
    "# Import necessary libraries\n",
    "from pathlib import Path\n",
    "import csv\n"
   ]
  },
  {
   "cell_type": "code",
   "execution_count": null,
   "metadata": {},
   "outputs": [],
   "source": [
    "# Set file paths for menu_data.csv and sales_data.csv\n",
    "menu_filepath = Path('./Resources/menu_data.csv')\n",
    "sales_filepath = Path('./Resources/sales_data.csv')"
   ]
  },
  {
   "cell_type": "code",
   "execution_count": null,
   "metadata": {},
   "outputs": [],
   "source": [
    "# Initialize variables\n",
    "# List object to hold menu data\n",
    "menu = []\n",
    "# List object tol hold sales data\n",
    "sales = []\n"
   ]
  },
  {
   "cell_type": "code",
   "execution_count": null,
   "metadata": {},
   "outputs": [],
   "source": [
    "def create_list_of_lists_from_csv(csv_file_path):\n",
    "\n",
    "    # Initialize variables\n",
    "    list_of_lists = []\n",
    "    a_list = []\n",
    "    nested_lists_count = 0\n",
    "    data_value = \"\"\n",
    "    list_value = []\n",
    "\n",
    "    # Open data in specified path as csv_file \n",
    "    with open(csv_file_path, 'r') as csv_file:\n",
    "\n",
    "        # Read data from csv_file knowing the data is ',' delimited and assign to csvreader variable\n",
    "        csvreader = csv.reader(csv_file, delimiter=',')\n",
    "\n",
    "        # Store data header and go to next line\n",
    "        header = next(csvreader)\n",
    "        \n",
    "        # Iterate through each line of csvreader\n",
    "        for row in csvreader:\n",
    "            \n",
    "            # Loop through items in row\n",
    "            for an_item in row:\n",
    "\n",
    "                # Assign current item to variable\n",
    "                data_value = an_item\n",
    "\n",
    "                # Appending variable value to list\n",
    "                a_list.append(data_value)\n",
    "            \n",
    "            # Assign a list to variable\n",
    "            list_value = a_list\n",
    "            \n",
    "            # Append list to list of lists\n",
    "            list_of_lists.append(list_value)\n",
    "\n",
    "            # Clear values from list and list temporary variable\n",
    "            a_list = []\n",
    "            list_value = []\n",
    "\n",
    "    # Return list of lists\n",
    "    return list_of_lists\n"
   ]
  },
  {
   "cell_type": "code",
   "execution_count": null,
   "metadata": {
    "tags": []
   },
   "outputs": [],
   "source": [
    "# Read in the menu data into the menu list\n",
    "menu = create_list_of_lists_from_csv(menu_filepath)\n"
   ]
  },
  {
   "cell_type": "code",
   "execution_count": null,
   "metadata": {
    "tags": []
   },
   "outputs": [],
   "source": [
    "# Read in the sales data into the sales list\n",
    "sales = create_list_of_lists_from_csv(sales_filepath)\n"
   ]
  },
  {
   "cell_type": "code",
   "execution_count": null,
   "metadata": {},
   "outputs": [],
   "source": [
    "# Initialize dict object to hold our key-value pairs of items and metrics\n",
    "report = {}\n"
   ]
  },
  {
   "cell_type": "code",
   "execution_count": null,
   "metadata": {
    "tags": []
   },
   "outputs": [],
   "source": [
    "# Initialize a row counter variable\n",
    "row_count = 0\n"
   ]
  },
  {
   "cell_type": "code",
   "execution_count": 14,
   "metadata": {
    "tags": [
     "outputPrepend"
    ]
   },
   "outputs": [
    {
     "output_type": "stream",
     "name": "stdout",
     "text": "unt': 0, '02-revenue': 0, '03-cogs': 0, '04-profit': 0}, '7786': {'01-count': 0, '02-revenue': 0, '03-cogs': 0, '04-profit': 0}, '7787': {'01-count': 0, '02-revenue': 0, '03-cogs': 0, '04-profit': 0}, '7788': {'01-count': 0, '02-revenue': 0, '03-cogs': 0, '04-profit': 0}, '7789': {'01-count': 0, '02-revenue': 0, '03-cogs': 0, '04-profit': 0}, '7790': {'01-count': 0, '02-revenue': 0, '03-cogs': 0, '04-profit': 0}, '7791': {'01-count': 0, '02-revenue': 0, '03-cogs': 0, '04-profit': 0}, '7792': {'01-count': 0, '02-revenue': 0, '03-cogs': 0, '04-profit': 0}, '7793': {'01-count': 0, '02-revenue': 0, '03-cogs': 0, '04-profit': 0}, '7794': {'01-count': 0, '02-revenue': 0, '03-cogs': 0, '04-profit': 0}, '7795': {'01-count': 0, '02-revenue': 0, '03-cogs': 0, '04-profit': 0}, '7796': {'01-count': 0, '02-revenue': 0, '03-cogs': 0, '04-profit': 0}, '7797': {'01-count': 0, '02-revenue': 0, '03-cogs': 0, '04-profit': 0}, '7798': {'01-count': 0, '02-revenue': 0, '03-cogs': 0, '04-profit': 0}, '7799': {'01-count': 0, '02-revenue': 0, '03-cogs': 0, '04-profit': 0}, '7800': {'01-count': 0, '02-revenue': 0, '03-cogs': 0, '04-profit': 0}, '7801': {'01-count': 0, '02-revenue': 0, '03-cogs': 0, '04-profit': 0}, '7802': {'01-count': 0, '02-revenue': 0, '03-cogs': 0, '04-profit': 0}, '7803': {'01-count': 0, '02-revenue': 0, '03-cogs': 0, '04-profit': 0}, '7804': {'01-count': 0, '02-revenue': 0, '03-cogs': 0, '04-profit': 0}, '7805': {'01-count': 0, '02-revenue': 0, '03-cogs': 0, '04-profit': 0}, '7806': {'01-count': 0, '02-revenue': 0, '03-cogs': 0, '04-profit': 0}, '7807': {'01-count': 0, '02-revenue': 0, '03-cogs': 0, '04-profit': 0}, '7808': {'01-count': 0, '02-revenue': 0, '03-cogs': 0, '04-profit': 0}, '7809': {'01-count': 0, '02-revenue': 0, '03-cogs': 0, '04-profit': 0}, '7810': {'01-count': 0, '02-revenue': 0, '03-cogs': 0, '04-profit': 0}, '7811': {'01-count': 0, '02-revenue': 0, '03-cogs': 0, '04-profit': 0}, '7812': {'01-count': 0, '02-revenue': 0, '03-cogs': 0, '04-profit': 0}, '7813': {'01-count': 0, '02-revenue': 0, '03-cogs': 0, '04-profit': 0}, '7814': {'01-count': 0, '02-revenue': 0, '03-cogs': 0, '04-profit': 0}, '7815': {'01-count': 0, '02-revenue': 0, '03-cogs': 0, '04-profit': 0}, '7816': {'01-count': 0, '02-revenue': 0, '03-cogs': 0, '04-profit': 0}, '7817': {'01-count': 0, '02-revenue': 0, '03-cogs': 0, '04-profit': 0}, '7818': {'01-count': 0, '02-revenue': 0, '03-cogs': 0, '04-profit': 0}, '7819': {'01-count': 0, '02-revenue': 0, '03-cogs': 0, '04-profit': 0}, '7820': {'01-count': 0, '02-revenue': 0, '03-cogs': 0, '04-profit': 0}, '7821': {'01-count': 0, '02-revenue': 0, '03-cogs': 0, '04-profit': 0}, '7822': {'01-count': 0, '02-revenue': 0, '03-cogs': 0, '04-profit': 0}, '7823': {'01-count': 0, '02-revenue': 0, '03-cogs': 0, '04-profit': 0}, '7824': {'01-count': 0, '02-revenue': 0, '03-cogs': 0, '04-profit': 0}, '7825': {'01-count': 0, '02-revenue': 0, '03-cogs': 0, '04-profit': 0}, '7826': {'01-count': 0, '02-revenue': 0, '03-cogs': 0, '04-profit': 0}, '7827': {'01-count': 0, '02-revenue': 0, '03-cogs': 0, '04-profit': 0}, '7828': {'01-count': 0, '02-revenue': 0, '03-cogs': 0, '04-profit': 0}, '7829': {'01-count': 0, '02-revenue': 0, '03-cogs': 0, '04-profit': 0}, '7830': {'01-count': 0, '02-revenue': 0, '03-cogs': 0, '04-profit': 0}, '7831': {'01-count': 0, '02-revenue': 0, '03-cogs': 0, '04-profit': 0}, '7832': {'01-count': 0, '02-revenue': 0, '03-cogs': 0, '04-profit': 0}, '7833': {'01-count': 0, '02-revenue': 0, '03-cogs': 0, '04-profit': 0}, '7834': {'01-count': 0, '02-revenue': 0, '03-cogs': 0, '04-profit': 0}, '7835': {'01-count': 0, '02-revenue': 0, '03-cogs': 0, '04-profit': 0}, '7836': {'01-count': 0, '02-revenue': 0, '03-cogs': 0, '04-profit': 0}, '7837': {'01-count': 0, '02-revenue': 0, '03-cogs': 0, '04-profit': 0}, '7838': {'01-count': 0, '02-revenue': 0, '03-cogs': 0, '04-profit': 0}, '7839': {'01-count': 0, '02-revenue': 0, '03-cogs': 0, '04-profit': 0}, '7840': {'01-count': 0, '02-revenue': 0, '03-cogs': 0, '04-profit': 0}, '7841': {'01-count': 0, '02-revenue': 0, '03-cogs': 0, '04-profit': 0}, '7842': {'01-count': 0, '02-revenue': 0, '03-cogs': 0, '04-profit': 0}, '7843': {'01-count': 0, '02-revenue': 0, '03-cogs': 0, '04-profit': 0}, '7844': {'01-count': 0, '02-revenue': 0, '03-cogs': 0, '04-profit': 0}, '7845': {'01-count': 0, '02-revenue': 0, '03-cogs': 0, '04-profit': 0}, '7846': {'01-count': 0, '02-revenue': 0, '03-cogs': 0, '04-profit': 0}, '7847': {'01-count': 0, '02-revenue': 0, '03-cogs': 0, '04-profit': 0}, '7848': {'01-count': 0, '02-revenue': 0, '03-cogs': 0, '04-profit': 0}, '7849': {'01-count': 0, '02-revenue': 0, '03-cogs': 0, '04-profit': 0}, '7850': {'01-count': 0, '02-revenue': 0, '03-cogs': 0, '04-profit': 0}, '7851': {'01-count': 0, '02-revenue': 0, '03-cogs': 0, '04-profit': 0}, '7852': {'01-count': 0, '02-revenue': 0, '03-cogs': 0, '04-profit': 0}, '7853': {'01-count': 0, '02-revenue': 0, '03-cogs': 0, '04-profit': 0}, '7854': {'01-count': 0, '02-revenue': 0, '03-cogs': 0, '04-profit': 0}, '7855': {'01-count': 0, '02-revenue': 0, '03-cogs': 0, '04-profit': 0}, '7856': {'01-count': 0, '02-revenue': 0, '03-cogs': 0, '04-profit': 0}, '7857': {'01-count': 0, '02-revenue': 0, '03-cogs': 0, '04-profit': 0}, '7858': {'01-count': 0, '02-revenue': 0, '03-cogs': 0, '04-profit': 0}, '7859': {'01-count': 0, '02-revenue': 0, '03-cogs': 0, '04-profit': 0}, '7860': {'01-count': 0, '02-revenue': 0, '03-cogs': 0, '04-profit': 0}, '7861': {'01-count': 0, '02-revenue': 0, '03-cogs': 0, '04-profit': 0}, '7862': {'01-count': 0, '02-revenue': 0, '03-cogs': 0, '04-profit': 0}, '7863': {'01-count': 0, '02-revenue': 0, '03-cogs': 0, '04-profit': 0}, '7864': {'01-count': 0, '02-revenue': 0, '03-cogs': 0, '04-profit': 0}, '7865': {'01-count': 0, '02-revenue': 0, '03-cogs': 0, '04-profit': 0}, '7866': {'01-count': 0, '02-revenue': 0, '03-cogs': 0, '04-profit': 0}, '7867': {'01-count': 0, '02-revenue': 0, '03-cogs': 0, '04-profit': 0}, '7868': {'01-count': 0, '02-revenue': 0, '03-cogs': 0, '04-profit': 0}, '7869': {'01-count': 0, '02-revenue': 0, '03-cogs': 0, '04-profit': 0}, '7870': {'01-count': 0, '02-revenue': 0, '03-cogs': 0, '04-profit': 0}, '7871': {'01-count': 0, '02-revenue': 0, '03-cogs': 0, '04-profit': 0}, '7872': {'01-count': 0, '02-revenue': 0, '03-cogs': 0, '04-profit': 0}, '7873': {'01-count': 0, '02-revenue': 0, '03-cogs': 0, '04-profit': 0}, '7874': {'01-count': 0, '02-revenue': 0, '03-cogs': 0, '04-profit': 0}, '7875': {'01-count': 0, '02-revenue': 0, '03-cogs': 0, '04-profit': 0}, '7876': {'01-count': 0, '02-revenue': 0, '03-cogs': 0, '04-profit': 0}, '7877': {'01-count': 0, '02-revenue': 0, '03-cogs': 0, '04-profit': 0}, '7878': {'01-count': 0, '02-revenue': 0, '03-cogs': 0, '04-profit': 0}, '7879': {'01-count': 0, '02-revenue': 0, '03-cogs': 0, '04-profit': 0}, '7880': {'01-count': 0, '02-revenue': 0, '03-cogs': 0, '04-profit': 0}, '7881': {'01-count': 0, '02-revenue': 0, '03-cogs': 0, '04-profit': 0}, '7882': {'01-count': 0, '02-revenue': 0, '03-cogs': 0, '04-profit': 0}, '7883': {'01-count': 0, '02-revenue': 0, '03-cogs': 0, '04-profit': 0}, '7884': {'01-count': 0, '02-revenue': 0, '03-cogs': 0, '04-profit': 0}, '7885': {'01-count': 0, '02-revenue': 0, '03-cogs': 0, '04-profit': 0}, '7886': {'01-count': 0, '02-revenue': 0, '03-cogs': 0, '04-profit': 0}, '7887': {'01-count': 0, '02-revenue': 0, '03-cogs': 0, '04-profit': 0}, '7888': {'01-count': 0, '02-revenue': 0, '03-cogs': 0, '04-profit': 0}, '7889': {'01-count': 0, '02-revenue': 0, '03-cogs': 0, '04-profit': 0}, '7890': {'01-count': 0, '02-revenue': 0, '03-cogs': 0, '04-profit': 0}, '7891': {'01-count': 0, '02-revenue': 0, '03-cogs': 0, '04-profit': 0}, '7892': {'01-count': 0, '02-revenue': 0, '03-cogs': 0, '04-profit': 0}, '7893': {'01-count': 0, '02-revenue': 0, '03-cogs': 0, '04-profit': 0}, '7894': {'01-count': 0, '02-revenue': 0, '03-cogs': 0, '04-profit': 0}, '7895': {'01-count': 0, '02-revenue': 0, '03-cogs': 0, '04-profit': 0}, '7896': {'01-count': 0, '02-revenue': 0, '03-cogs': 0, '04-profit': 0}, '7897': {'01-count': 0, '02-revenue': 0, '03-cogs': 0, '04-profit': 0}, '7898': {'01-count': 0, '02-revenue': 0, '03-cogs': 0, '04-profit': 0}, '7899': {'01-count': 0, '02-revenue': 0, '03-cogs': 0, '04-profit': 0}, '7900': {'01-count': 0, '02-revenue': 0, '03-cogs': 0, '04-profit': 0}, '7901': {'01-count': 0, '02-revenue': 0, '03-cogs': 0, '04-profit': 0}, '7902': {'01-count': 0, '02-revenue': 0, '03-cogs': 0, '04-profit': 0}, '7903': {'01-count': 0, '02-revenue': 0, '03-cogs': 0, '04-profit': 0}, '7904': {'01-count': 0, '02-revenue': 0, '03-cogs': 0, '04-profit': 0}, '7905': {'01-count': 0, '02-revenue': 0, '03-cogs': 0, '04-profit': 0}, '7906': {'01-count': 0, '02-revenue': 0, '03-cogs': 0, '04-profit': 0}, '7907': {'01-count': 0, '02-revenue': 0, '03-cogs': 0, '04-profit': 0}, '7908': {'01-count': 0, '02-revenue': 0, '03-cogs': 0, '04-profit': 0}, '7909': {'01-count': 0, '02-revenue': 0, '03-cogs': 0, '04-profit': 0}, '7910': {'01-count': 0, '02-revenue': 0, '03-cogs': 0, '04-profit': 0}, '7911': {'01-count': 0, '02-revenue': 0, '03-cogs': 0, '04-profit': 0}, '7912': {'01-count': 0, '02-revenue': 0, '03-cogs': 0, '04-profit': 0}, '7913': {'01-count': 0, '02-revenue': 0, '03-cogs': 0, '04-profit': 0}, '7914': {'01-count': 0, '02-revenue': 0, '03-cogs': 0, '04-profit': 0}, '7915': {'01-count': 0, '02-revenue': 0, '03-cogs': 0, '04-profit': 0}, '7916': {'01-count': 0, '02-revenue': 0, '03-cogs': 0, '04-profit': 0}, '7917': {'01-count': 0, '02-revenue': 0, '03-cogs': 0, '04-profit': 0}, '7918': {'01-count': 0, '02-revenue': 0, '03-cogs': 0, '04-profit': 0}, '7919': {'01-count': 0, '02-revenue': 0, '03-cogs': 0, '04-profit': 0}, '7920': {'01-count': 0, '02-revenue': 0, '03-cogs': 0, '04-profit': 0}, '7921': {'01-count': 0, '02-revenue': 0, '03-cogs': 0, '04-profit': 0}, '7922': {'01-count': 0, '02-revenue': 0, '03-cogs': 0, '04-profit': 0}, '7923': {'01-count': 0, '02-revenue': 0, '03-cogs': 0, '04-profit': 0}, '7924': {'01-count': 0, '02-revenue': 0, '03-cogs': 0, '04-profit': 0}, '7925': {'01-count': 0, '02-revenue': 0, '03-cogs': 0, '04-profit': 0}, '7926': {'01-count': 0, '02-revenue': 0, '03-cogs': 0, '04-profit': 0}, '7927': {'01-count': 0, '02-revenue': 0, '03-cogs': 0, '04-profit': 0}, '7928': {'01-count': 0, '02-revenue': 0, '03-cogs': 0, '04-profit': 0}, '7929': {'01-count': 0, '02-revenue': 0, '03-cogs': 0, '04-profit': 0}, '7930': {'01-count': 0, '02-revenue': 0, '03-cogs': 0, '04-profit': 0}, '7931': {'01-count': 0, '02-revenue': 0, '03-cogs': 0, '04-profit': 0}, '7932': {'01-count': 0, '02-revenue': 0, '03-cogs': 0, '04-profit': 0}, '7933': {'01-count': 0, '02-revenue': 0, '03-cogs': 0, '04-profit': 0}, '7934': {'01-count': 0, '02-revenue': 0, '03-cogs': 0, '04-profit': 0}, '7935': {'01-count': 0, '02-revenue': 0, '03-cogs': 0, '04-profit': 0}, '7936': {'01-count': 0, '02-revenue': 0, '03-cogs': 0, '04-profit': 0}, '7937': {'01-count': 0, '02-revenue': 0, '03-cogs': 0, '04-profit': 0}, '7938': {'01-count': 0, '02-revenue': 0, '03-cogs': 0, '04-profit': 0}, '7939': {'01-count': 0, '02-revenue': 0, '03-cogs': 0, '04-profit': 0}, '7940': {'01-count': 0, '02-revenue': 0, '03-cogs': 0, '04-profit': 0}, '7941': {'01-count': 0, '02-revenue': 0, '03-cogs': 0, '04-profit': 0}, '7942': {'01-count': 0, '02-revenue': 0, '03-cogs': 0, '04-profit': 0}, '7943': {'01-count': 0, '02-revenue': 0, '03-cogs': 0, '04-profit': 0}, '7944': {'01-count': 0, '02-revenue': 0, '03-cogs': 0, '04-profit': 0}, '7945': {'01-count': 0, '02-revenue': 0, '03-cogs': 0, '04-profit': 0}, '7946': {'01-count': 0, '02-revenue': 0, '03-cogs': 0, '04-profit': 0}, '7947': {'01-count': 0, '02-revenue': 0, '03-cogs': 0, '04-profit': 0}, '7948': {'01-count': 0, '02-revenue': 0, '03-cogs': 0, '04-profit': 0}, '7949': {'01-count': 0, '02-revenue': 0, '03-cogs': 0, '04-profit': 0}, '7950': {'01-count': 0, '02-revenue': 0, '03-cogs': 0, '04-profit': 0}, '7951': {'01-count': 0, '02-revenue': 0, '03-cogs': 0, '04-profit': 0}, '7952': {'01-count': 0, '02-revenue': 0, '03-cogs': 0, '04-profit': 0}, '7953': {'01-count': 0, '02-revenue': 0, '03-cogs': 0, '04-profit': 0}, '7954': {'01-count': 0, '02-revenue': 0, '03-cogs': 0, '04-profit': 0}, '7955': {'01-count': 0, '02-revenue': 0, '03-cogs': 0, '04-profit': 0}, '7956': {'01-count': 0, '02-revenue': 0, '03-cogs': 0, '04-profit': 0}, '7957': {'01-count': 0, '02-revenue': 0, '03-cogs': 0, '04-profit': 0}, '7958': {'01-count': 0, '02-revenue': 0, '03-cogs': 0, '04-profit': 0}, '7959': {'01-count': 0, '02-revenue': 0, '03-cogs': 0, '04-profit': 0}, '7960': {'01-count': 0, '02-revenue': 0, '03-cogs': 0, '04-profit': 0}, '7961': {'01-count': 0, '02-revenue': 0, '03-cogs': 0, '04-profit': 0}, '7962': {'01-count': 0, '02-revenue': 0, '03-cogs': 0, '04-profit': 0}, '7963': {'01-count': 0, '02-revenue': 0, '03-cogs': 0, '04-profit': 0}, '7964': {'01-count': 0, '02-revenue': 0, '03-cogs': 0, '04-profit': 0}, '7965': {'01-count': 0, '02-revenue': 0, '03-cogs': 0, '04-profit': 0}, '7966': {'01-count': 0, '02-revenue': 0, '03-cogs': 0, '04-profit': 0}, '7967': {'01-count': 0, '02-revenue': 0, '03-cogs': 0, '04-profit': 0}, '7968': {'01-count': 0, '02-revenue': 0, '03-cogs': 0, '04-profit': 0}, '7969': {'01-count': 0, '02-revenue': 0, '03-cogs': 0, '04-profit': 0}, '7970': {'01-count': 0, '02-revenue': 0, '03-cogs': 0, '04-profit': 0}, '7971': {'01-count': 0, '02-revenue': 0, '03-cogs': 0, '04-profit': 0}, '7972': {'01-count': 0, '02-revenue': 0, '03-cogs': 0, '04-profit': 0}, '7973': {'01-count': 0, '02-revenue': 0, '03-cogs': 0, '04-profit': 0}, '7974': {'01-count': 0, '02-revenue': 0, '03-cogs': 0, '04-profit': 0}, '7975': {'01-count': 0, '02-revenue': 0, '03-cogs': 0, '04-profit': 0}, '7976': {'01-count': 0, '02-revenue': 0, '03-cogs': 0, '04-profit': 0}, '7977': {'01-count': 0, '02-revenue': 0, '03-cogs': 0, '04-profit': 0}, '7978': {'01-count': 0, '02-revenue': 0, '03-cogs': 0, '04-profit': 0}, '7979': {'01-count': 0, '02-revenue': 0, '03-cogs': 0, '04-profit': 0}, '7980': {'01-count': 0, '02-revenue': 0, '03-cogs': 0, '04-profit': 0}, '7981': {'01-count': 0, '02-revenue': 0, '03-cogs': 0, '04-profit': 0}, '7982': {'01-count': 0, '02-revenue': 0, '03-cogs': 0, '04-profit': 0}, '7983': {'01-count': 0, '02-revenue': 0, '03-cogs': 0, '04-profit': 0}, '7984': {'01-count': 0, '02-revenue': 0, '03-cogs': 0, '04-profit': 0}, '7985': {'01-count': 0, '02-revenue': 0, '03-cogs': 0, '04-profit': 0}, '7986': {'01-count': 0, '02-revenue': 0, '03-cogs': 0, '04-profit': 0}, '7987': {'01-count': 0, '02-revenue': 0, '03-cogs': 0, '04-profit': 0}, '7988': {'01-count': 0, '02-revenue': 0, '03-cogs': 0, '04-profit': 0}, '7989': {'01-count': 0, '02-revenue': 0, '03-cogs': 0, '04-profit': 0}, '7990': {'01-count': 0, '02-revenue': 0, '03-cogs': 0, '04-profit': 0}, '7991': {'01-count': 0, '02-revenue': 0, '03-cogs': 0, '04-profit': 0}, '7992': {'01-count': 0, '02-revenue': 0, '03-cogs': 0, '04-profit': 0}, '7993': {'01-count': 0, '02-revenue': 0, '03-cogs': 0, '04-profit': 0}, '7994': {'01-count': 0, '02-revenue': 0, '03-cogs': 0, '04-profit': 0}, '7995': {'01-count': 0, '02-revenue': 0, '03-cogs': 0, '04-profit': 0}, '7996': {'01-count': 0, '02-revenue': 0, '03-cogs': 0, '04-profit': 0}, '7997': {'01-count': 0, '02-revenue': 0, '03-cogs': 0, '04-profit': 0}, '7998': {'01-count': 0, '02-revenue': 0, '03-cogs': 0, '04-profit': 0}, '7999': {'01-count': 0, '02-revenue': 0, '03-cogs': 0, '04-profit': 0}, '8000': {'01-count': 0, '02-revenue': 0, '03-cogs': 0, '04-profit': 0}, '8001': {'01-count': 0, '02-revenue': 0, '03-cogs': 0, '04-profit': 0}, '8002': {'01-count': 0, '02-revenue': 0, '03-cogs': 0, '04-profit': 0}, '8003': {'01-count': 0, '02-revenue': 0, '03-cogs': 0, '04-profit': 0}, '8004': {'01-count': 0, '02-revenue': 0, '03-cogs': 0, '04-profit': 0}, '8005': {'01-count': 0, '02-revenue': 0, '03-cogs': 0, '04-profit': 0}, '8006': {'01-count': 0, '02-revenue': 0, '03-cogs': 0, '04-profit': 0}, '8007': {'01-count': 0, '02-revenue': 0, '03-cogs': 0, '04-profit': 0}, '8008': {'01-count': 0, '02-revenue': 0, '03-cogs': 0, '04-profit': 0}, '8009': {'01-count': 0, '02-revenue': 0, '03-cogs': 0, '04-profit': 0}, '8010': {'01-count': 0, '02-revenue': 0, '03-cogs': 0, '04-profit': 0}, '8011': {'01-count': 0, '02-revenue': 0, '03-cogs': 0, '04-profit': 0}, '8012': {'01-count': 0, '02-revenue': 0, '03-cogs': 0, '04-profit': 0}, '8013': {'01-count': 0, '02-revenue': 0, '03-cogs': 0, '04-profit': 0}, '8014': {'01-count': 0, '02-revenue': 0, '03-cogs': 0, '04-profit': 0}, '8015': {'01-count': 0, '02-revenue': 0, '03-cogs': 0, '04-profit': 0}, '8016': {'01-count': 0, '02-revenue': 0, '03-cogs': 0, '04-profit': 0}, '8017': {'01-count': 0, '02-revenue': 0, '03-cogs': 0, '04-profit': 0}, '8018': {'01-count': 0, '02-revenue': 0, '03-cogs': 0, '04-profit': 0}, '8019': {'01-count': 0, '02-revenue': 0, '03-cogs': 0, '04-profit': 0}, '8020': {'01-count': 0, '02-revenue': 0, '03-cogs': 0, '04-profit': 0}, '8021': {'01-count': 0, '02-revenue': 0, '03-cogs': 0, '04-profit': 0}, '8022': {'01-count': 0, '02-revenue': 0, '03-cogs': 0, '04-profit': 0}, '8023': {'01-count': 0, '02-revenue': 0, '03-cogs': 0, '04-profit': 0}, '8024': {'01-count': 0, '02-revenue': 0, '03-cogs': 0, '04-profit': 0}, '8025': {'01-count': 0, '02-revenue': 0, '03-cogs': 0, '04-profit': 0}, '8026': {'01-count': 0, '02-revenue': 0, '03-cogs': 0, '04-profit': 0}, '8027': {'01-count': 0, '02-revenue': 0, '03-cogs': 0, '04-profit': 0}, '8028': {'01-count': 0, '02-revenue': 0, '03-cogs': 0, '04-profit': 0}, '8029': {'01-count': 0, '02-revenue': 0, '03-cogs': 0, '04-profit': 0}, '8030': {'01-count': 0, '02-revenue': 0, '03-cogs': 0, '04-profit': 0}, '8031': {'01-count': 0, '02-revenue': 0, '03-cogs': 0, '04-profit': 0}, '8032': {'01-count': 0, '02-revenue': 0, '03-cogs': 0, '04-profit': 0}, '8033': {'01-count': 0, '02-revenue': 0, '03-cogs': 0, '04-profit': 0}, '8034': {'01-count': 0, '02-revenue': 0, '03-cogs': 0, '04-profit': 0}, '8035': {'01-count': 0, '02-revenue': 0, '03-cogs': 0, '04-profit': 0}, '8036': {'01-count': 0, '02-revenue': 0, '03-cogs': 0, '04-profit': 0}, '8037': {'01-count': 0, '02-revenue': 0, '03-cogs': 0, '04-profit': 0}, '8038': {'01-count': 0, '02-revenue': 0, '03-cogs': 0, '04-profit': 0}, '8039': {'01-count': 0, '02-revenue': 0, '03-cogs': 0, '04-profit': 0}, '8040': {'01-count': 0, '02-revenue': 0, '03-cogs': 0, '04-profit': 0}, '8041': {'01-count': 0, '02-revenue': 0, '03-cogs': 0, '04-profit': 0}, '8042': {'01-count': 0, '02-revenue': 0, '03-cogs': 0, '04-profit': 0}, '8043': {'01-count': 0, '02-revenue': 0, '03-cogs': 0, '04-profit': 0}, '8044': {'01-count': 0, '02-revenue': 0, '03-cogs': 0, '04-profit': 0}, '8045': {'01-count': 0, '02-revenue': 0, '03-cogs': 0, '04-profit': 0}, '8046': {'01-count': 0, '02-revenue': 0, '03-cogs': 0, '04-profit': 0}, '8047': {'01-count': 0, '02-revenue': 0, '03-cogs': 0, '04-profit': 0}, '8048': {'01-count': 0, '02-revenue': 0, '03-cogs': 0, '04-profit': 0}, '8049': {'01-count': 0, '02-revenue': 0, '03-cogs': 0, '04-profit': 0}, '8050': {'01-count': 0, '02-revenue': 0, '03-cogs': 0, '04-profit': 0}, '8051': {'01-count': 0, '02-revenue': 0, '03-cogs': 0, '04-profit': 0}, '8052': {'01-count': 0, '02-revenue': 0, '03-cogs': 0, '04-profit': 0}, '8053': {'01-count': 0, '02-revenue': 0, '03-cogs': 0, '04-profit': 0}, '8054': {'01-count': 0, '02-revenue': 0, '03-cogs': 0, '04-profit': 0}, '8055': {'01-count': 0, '02-revenue': 0, '03-cogs': 0, '04-profit': 0}, '8056': {'01-count': 0, '02-revenue': 0, '03-cogs': 0, '04-profit': 0}, '8057': {'01-count': 0, '02-revenue': 0, '03-cogs': 0, '04-profit': 0}, '8058': {'01-count': 0, '02-revenue': 0, '03-cogs': 0, '04-profit': 0}, '8059': {'01-count': 0, '02-revenue': 0, '03-cogs': 0, '04-profit': 0}, '8060': {'01-count': 0, '02-revenue': 0, '03-cogs': 0, '04-profit': 0}, '8061': {'01-count': 0, '02-revenue': 0, '03-cogs': 0, '04-profit': 0}, '8062': {'01-count': 0, '02-revenue': 0, '03-cogs': 0, '04-profit': 0}}"
    }
   ],
   "source": [
    "# @TODO: Loop over every row in the sales list object\n",
    "for a_sale in sales:\n",
    "\n",
    "    # Line_Item_ID,Date,Credit_Card_Number,Quantity,Menu_Item\n",
    "    # Initialize sales data variables\n",
    "    line_item_id = 0\n",
    "    date = \"\"\n",
    "    credit_card_number = 0\n",
    "    quantity = 0\n",
    "    menu_item = \"\"\n",
    "    \n",
    "    # If the item value is not in the report, add it as a new entry with initialized metrics\n",
    "    # Naming convention allows the keys to be ordered in logical fashion, count, revenue, cost, profit\n",
    "    if a_sale[0] not in report:\n",
    "        report[a_sale[0]] = {\n",
    "            \"01-count\": 0,\n",
    "            \"02-revenue\": 0,\n",
    "            \"03-cogs\": 0,\n",
    "            \"04-profit\": 0,\n",
    "            }\n",
    "\n",
    "    # @TODO: For every row in our sales data, loop over the menu records to determine a match\n",
    "        for \n",
    "\n",
    "        # Item,Category,Description,Price,Cost\n",
    "        # @TODO: Initialize menu data variables\n",
    "\n",
    "\n",
    "        # @TODO: Calculate profit of each item in the menu data\n",
    "\n",
    "\n",
    "        # @TODO: If the item value in our sales data is equal to the any of the items in the menu, then begin tracking metrics for that item\n",
    "\n",
    "\n",
    "            # @TODO: Print out matching menu data\n",
    "\n",
    "\n",
    "            # @TODO: Cumulatively add up the metrics for each item key\n",
    "\n",
    "\n",
    "        # @TODO: Else, the sales item does not equal any fo the item in the menu data, therefore no match\n",
    "\n",
    "\n",
    "    # @TODO: Increment the row counter by 1\n"
   ]
  },
  {
   "cell_type": "code",
   "execution_count": null,
   "metadata": {},
   "outputs": [],
   "source": [
    "\n",
    "# @TODO: Print total number of records in sales data\n",
    "\n",
    "\n",
    "# @TODO: Write out report to a text file (won't appear on the command line output)\n"
   ]
  }
 ]
}