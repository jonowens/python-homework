{
 "metadata": {
  "language_info": {
   "codemirror_mode": {
    "name": "ipython",
    "version": 3
   },
   "file_extension": ".py",
   "mimetype": "text/x-python",
   "name": "python",
   "nbconvert_exporter": "python",
   "pygments_lexer": "ipython3",
   "version": "3.8.5-final"
  },
  "orig_nbformat": 2,
  "kernelspec": {
   "name": "Python 3.8.5 64-bit ('jonat': virtualenv)",
   "display_name": "Python 3.8.5 64-bit ('jonat': virtualenv)",
   "metadata": {
    "interpreter": {
     "hash": "600c25c12856a842ab64bd468beca1647a20977f2accb2696f130eafa2c53eb8"
    }
   }
  }
 },
 "nbformat": 4,
 "nbformat_minor": 2,
 "cells": [
  {
   "cell_type": "code",
   "execution_count": 1,
   "metadata": {},
   "outputs": [],
   "source": [
    "# -*- coding: utf-8 -*-\n"
   ]
  },
  {
   "source": [
    "# PyRamen Sales Assistance\n",
    "\n",
    "### Description: \n",
    "* The following task is to help PyRamen analyze sales data and cross reference it with manu data.  Two data files have been provided, menu_data.csv and sales_data.csv, to help with the analysis.  The following code below will analyze and calculate various metrics along manipulating the data to help automate the calculations.\n"
   ],
   "cell_type": "markdown",
   "metadata": {}
  },
  {
   "cell_type": "code",
   "execution_count": 2,
   "metadata": {},
   "outputs": [],
   "source": [
    "# Import necessary libraries\n",
    "from pathlib import Path\n",
    "import csv\n"
   ]
  },
  {
   "cell_type": "code",
   "execution_count": 3,
   "metadata": {},
   "outputs": [],
   "source": [
    "# Set file paths for menu_data.csv and sales_data.csv\n",
    "menu_filepath = Path('./Resources/menu_data.csv')\n",
    "sales_filepath = Path('./Resources/sales_data.csv')\n"
   ]
  },
  {
   "cell_type": "code",
   "execution_count": 4,
   "metadata": {},
   "outputs": [],
   "source": [
    "# Initialize variables\n",
    "# List object to hold menu data\n",
    "menu = []\n",
    "# List object tol hold sales data\n",
    "sales = []\n"
   ]
  },
  {
   "cell_type": "code",
   "execution_count": 5,
   "metadata": {},
   "outputs": [],
   "source": [
    "# Read in the menu data into the menu list\n",
    "\n",
    "# Initialize variables\n",
    "list_of_lists = []\n",
    "a_list = []\n",
    "nested_lists_count = 0\n",
    "data_value = \"\"\n",
    "list_value = []\n",
    "column_count = 0\n",
    "\n",
    "# Open data in specified path as csv_file \n",
    "with open(menu_filepath, 'r') as csv_file:\n",
    "\n",
    "    # Read data from csv_file knowing the data is ',' delimited and assign to csvreader variable\n",
    "    csvreader = csv.reader(csv_file, delimiter=',')\n",
    "\n",
    "    # Store data header and go to next line\n",
    "    header = next(csvreader)\n",
    "    \n",
    "    # Iterate through each line of csvreader\n",
    "    for row in csvreader:\n",
    "        \n",
    "        # Add values to a list\n",
    "        a_list.append(row[0]) \n",
    "        a_list.append(row[1])\n",
    "        a_list.append(row[2])\n",
    "        a_list.append(float(row[3]))\n",
    "        a_list.append(int(row[4]))\n",
    "\n",
    "        # Assign a list to variable\n",
    "        list_value = a_list\n",
    "        \n",
    "        # Append list to list of lists\n",
    "        list_of_lists.append(list_value)\n",
    "\n",
    "        # Clear values from list and list temporary variable\n",
    "        a_list = []\n",
    "        list_value = []\n",
    "\n",
    "# Assign list of lists to menu list\n",
    "menu = list_of_lists\n"
   ]
  },
  {
   "cell_type": "code",
   "execution_count": 6,
   "metadata": {
    "tags": []
   },
   "outputs": [],
   "source": [
    "# Read in the sales data into the sales list\n",
    "\n",
    "# Initialize variables\n",
    "list_of_lists = []\n",
    "a_list = []\n",
    "nested_lists_count = 0\n",
    "data_value = \"\"\n",
    "list_value = []\n",
    "column_count = 0\n",
    "\n",
    "# Open data in specified path as csv_file \n",
    "with open(sales_filepath, 'r') as csv_file:\n",
    "\n",
    "    # Read data from csv_file knowing the data is ',' delimited and assign to csvreader variable\n",
    "    csvreader = csv.reader(csv_file, delimiter=',')\n",
    "\n",
    "    # Store data header and go to next line\n",
    "    header = next(csvreader)\n",
    "    \n",
    "    # Iterate through each line of csvreader\n",
    "    for row in csvreader:\n",
    "        \n",
    "        # Add values to a list\n",
    "        a_list.append(int(row[0]))\n",
    "        a_list.append(row[1])\n",
    "        a_list.append(row[2])\n",
    "        a_list.append(int(row[3]))\n",
    "        a_list.append(row[4])\n",
    "        \n",
    "        # Assign a list to variable\n",
    "        list_value = a_list\n",
    "        \n",
    "        # Append list to list of lists\n",
    "        list_of_lists.append(list_value)\n",
    "\n",
    "        # Clear values from list and list temporary variable\n",
    "        a_list = []\n",
    "        list_value = []\n",
    "\n",
    "# Assign list of lists to sales list\n",
    "sales = list_of_lists\n"
   ]
  },
  {
   "cell_type": "code",
   "execution_count": 7,
   "metadata": {},
   "outputs": [],
   "source": [
    "# Initialize dict object to hold our key-value pairs of items and metrics\n",
    "report = {}\n"
   ]
  },
  {
   "cell_type": "code",
   "execution_count": 8,
   "metadata": {
    "tags": []
   },
   "outputs": [],
   "source": [
    "# Initialize a row counter variable\n",
    "row_count = 0\n"
   ]
  },
  {
   "cell_type": "code",
   "execution_count": 9,
   "metadata": {
    "tags": []
   },
   "outputs": [],
   "source": [
    "# Loop over every row in the sales list object\n",
    "for sales_item in sales:\n",
    "\n",
    "    # Line_Item_ID,Date,Credit_Card_Number,Quantity,Menu_Item\n",
    "    # Initialize sales data variables\n",
    "    quantity = int(sales_item[3])\n",
    "    menu_item = str(sales_item[4])\n",
    "\n",
    "    # If the item value is not in the report, add it as a new entry with initialized metrics\n",
    "    # Naming convention allows the keys to be ordered in logical fashion, count, revenue, cost, profit\n",
    "    if menu_item not in report:\n",
    "        report[menu_item] = {\n",
    "            \"1-count\": 0,\n",
    "            \"2-revenue\": 0,\n",
    "            \"3-cogs\": 0,\n",
    "            \"4-profit\": 0,\n",
    "            }\n",
    "        \n",
    "    # For every row in our sales data, loop over the menu records to determine a match\n",
    "    for an_item in menu:\n",
    "        # Item,Category,Description,Price,Cost\n",
    "        # Initialize menu data variables\n",
    "        item_name = str(an_item[0])\n",
    "        \n",
    "        price = float(an_item[3])\n",
    "        \n",
    "        cost = int(an_item[4])\n",
    "\n",
    "        # If the item value in our sales data is equal to any of the items in the menu, then begin tracking metrics for that item\n",
    "        if menu_item == item_name:\n",
    "            \n",
    "            # profit calculation and assignment\n",
    "            profit = (price - cost)\n",
    "\n",
    "            # ***Commented out to run the process faster***\n",
    "            # ***Use this if needing to test if comparison\n",
    "            # Print out matching menu data (Commented out to save screen space.)\n",
    "            #print(menu_item)\n",
    "            \n",
    "            # Cumulatively add up the metrics for each item key\n",
    "            report[menu_item][\"1-count\"] += quantity\n",
    "            report[menu_item][\"2-revenue\"] += price * quantity\n",
    "            report[menu_item][\"3-cogs\"] += cost * quantity\n",
    "            report[menu_item][\"4-profit\"] += profit * quantity\n",
    "\n",
    "        # ***Commented out to run the process faster***\n",
    "        # ***Use this if needing to test if else comparison\n",
    "        # Else, the sales item does not equal any of the item in the menu data, therefore no match\n",
    "        #else:\n",
    "            #print(f\"{menu_item} does not equal {item_name}! NO MATCH!\")\n",
    "\n",
    "    # Increment the row counter by 1\n",
    "    row_count += 1\n"
   ]
  },
  {
   "cell_type": "code",
   "execution_count": 10,
   "metadata": {
    "tags": []
   },
   "outputs": [
    {
     "output_type": "stream",
     "name": "stdout",
     "text": "74124\n{'spicy miso ramen': {'1-count': 9238, '2-revenue': 110856.0, '3-cogs': 46190, '4-profit': 64666.0}, 'tori paitan ramen': {'1-count': 9156, '2-revenue': 119028.0, '3-cogs': 54936, '4-profit': 64092.0}, 'truffle butter ramen': {'1-count': 8982, '2-revenue': 125748.0, '3-cogs': 62874, '4-profit': 62874.0}, 'tonkotsu ramen': {'1-count': 9288, '2-revenue': 120744.0, '3-cogs': 55728, '4-profit': 65016.0}, 'vegetarian spicy miso': {'1-count': 9216, '2-revenue': 110592.0, '3-cogs': 46080, '4-profit': 64512.0}, 'shio ramen': {'1-count': 9180, '2-revenue': 100980.0, '3-cogs': 45900, '4-profit': 55080.0}, 'miso crab ramen': {'1-count': 8890, '2-revenue': 106680.0, '3-cogs': 53340, '4-profit': 53340.0}, 'nagomi shoyu': {'1-count': 9132, '2-revenue': 100452.0, '3-cogs': 45660, '4-profit': 54792.0}, 'soft-shell miso crab ramen': {'1-count': 9130, '2-revenue': 127820.0, '3-cogs': 63910, '4-profit': 63910.0}, 'burnt garlic tonkotsu ramen': {'1-count': 9070, '2-revenue': 126980.0, '3-cogs': 54420, '4-profit': 72560.0}, 'vegetarian curry + king trumpet mushroom ramen': {'1-count': 8824, '2-revenue': 114712.0, '3-cogs': 61768, '4-profit': 52944.0}}\n"
    }
   ],
   "source": [
    "\n",
    "# Print total number of records in sales data\n",
    "print(row_count)\n",
    "\n",
    "# @TODO: Write out report to a text file (won't appear on the command line output)\n",
    "print(report)\n"
   ]
  }
 ]
}