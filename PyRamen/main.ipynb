{
 "metadata": {
  "language_info": {
   "codemirror_mode": {
    "name": "ipython",
    "version": 3
   },
   "file_extension": ".py",
   "mimetype": "text/x-python",
   "name": "python",
   "nbconvert_exporter": "python",
   "pygments_lexer": "ipython3",
   "version": "3.8.5-final"
  },
  "orig_nbformat": 2,
  "kernelspec": {
   "name": "Python 3.8.5 64-bit ('base': conda)",
   "display_name": "Python 3.8.5 64-bit ('base': conda)",
   "metadata": {
    "interpreter": {
     "hash": "600c25c12856a842ab64bd468beca1647a20977f2accb2696f130eafa2c53eb8"
    }
   }
  }
 },
 "nbformat": 4,
 "nbformat_minor": 2,
 "cells": [
  {
   "cell_type": "code",
   "execution_count": 1,
   "metadata": {},
   "outputs": [],
   "source": [
    "# -*- coding: utf-8 -*-\n"
   ]
  },
  {
   "source": [
    "# PyRamen Sales Assistance\n",
    "\n",
    "### Description: \n",
    "* The following task is to help PyRamen analyze sales data and cross reference it with manu data.  Two data files have been provided, menu_data.csv and sales_data.csv, to help with the analysis.  The following code below will analyze and calculate various metrics along manipulating the data to help automate the calculations.\n"
   ],
   "cell_type": "markdown",
   "metadata": {}
  },
  {
   "cell_type": "code",
   "execution_count": 2,
   "metadata": {},
   "outputs": [],
   "source": [
    "# Import necessary libraries\n",
    "from pathlib import Path\n",
    "import csv\n"
   ]
  },
  {
   "cell_type": "code",
   "execution_count": 3,
   "metadata": {},
   "outputs": [],
   "source": [
    "# Set file paths for menu_data.csv and sales_data.csv\n",
    "menu_filepath = Path('./Resources/menu_data.csv')\n",
    "sales_filepath = Path('./Resources/sales_data.csv')\n"
   ]
  },
  {
   "cell_type": "code",
   "execution_count": 4,
   "metadata": {},
   "outputs": [],
   "source": [
    "# Initialize variables\n",
    "# List object to hold menu data\n",
    "menu = []\n",
    "# List object tol hold sales data\n",
    "sales = []\n"
   ]
  },
  {
   "cell_type": "code",
   "execution_count": 5,
   "metadata": {},
   "outputs": [],
   "source": [
    "# Read in the menu data into the menu list\n",
    "\n",
    "# Initialize variables\n",
    "list_of_lists = []\n",
    "a_list = []\n",
    "nested_lists_count = 0\n",
    "data_value = \"\"\n",
    "list_value = []\n",
    "column_count = 0\n",
    "\n",
    "# Open data in specified path as csv_file \n",
    "with open(menu_filepath, 'r') as csv_file:\n",
    "\n",
    "    # Read data from csv_file knowing the data is ',' delimited and assign to csvreader variable\n",
    "    csvreader = csv.reader(csv_file, delimiter=',')\n",
    "\n",
    "    # Store data header and go to next line\n",
    "    header = next(csvreader)\n",
    "    \n",
    "    # Iterate through each line of csvreader\n",
    "    for row in csvreader:\n",
    "        \n",
    "        # Loop through items in row\n",
    "        for an_item in row:\n",
    "            \n",
    "            if column_count < 3:\n",
    "                # Assign current item to variable\n",
    "                data_value = an_item\n",
    "\n",
    "                # Appending variable value to list\n",
    "                a_list.append(data_value)\n",
    "                \n",
    "                # Increment column count\n",
    "                column_count += 1\n",
    "            else:\n",
    "                 # Assign current item to variable\n",
    "                data_value = an_item\n",
    "\n",
    "                # Appending variable value to list\n",
    "                a_list.append(float(data_value))\n",
    "                \n",
    "                # Increment column count\n",
    "                column_count += 1\n",
    "\n",
    "        # Assign column count to zero\n",
    "        column_count = 0\n",
    "\n",
    "        # Assign a list to variable\n",
    "        list_value = a_list\n",
    "        \n",
    "        # Append list to list of lists\n",
    "        list_of_lists.append(list_value)\n",
    "\n",
    "        # Clear values from list and list temporary variable\n",
    "        a_list = []\n",
    "        list_value = []\n",
    "\n",
    "# Assign list of lists to menu list\n",
    "menu = list_of_lists\n"
   ]
  },
  {
   "cell_type": "code",
   "execution_count": 6,
   "metadata": {
    "tags": []
   },
   "outputs": [],
   "source": [
    "# Read in the sales data into the sales list\n",
    "\n",
    "# Initialize variables\n",
    "list_of_lists = []\n",
    "a_list = []\n",
    "nested_lists_count = 0\n",
    "data_value = \"\"\n",
    "list_value = []\n",
    "column_count = 0\n",
    "\n",
    "# Open data in specified path as csv_file \n",
    "with open(sales_filepath, 'r') as csv_file:\n",
    "\n",
    "    # Read data from csv_file knowing the data is ',' delimited and assign to csvreader variable\n",
    "    csvreader = csv.reader(csv_file, delimiter=',')\n",
    "\n",
    "    # Store data header and go to next line\n",
    "    header = next(csvreader)\n",
    "    \n",
    "    # Iterate through each line of csvreader\n",
    "    for row in csvreader:\n",
    "        \n",
    "        # Loop through items in row\n",
    "        for an_item in row:\n",
    "            \n",
    "            if column_count is not 0 or column_count is not 3:\n",
    "                # Assign current item to variable\n",
    "                data_value = an_item\n",
    "\n",
    "                # Appending variable value to list\n",
    "                a_list.append(data_value)\n",
    "                \n",
    "                # Increment column count\n",
    "                column_count += 1\n",
    "            else:\n",
    "                 # Assign current item to variable\n",
    "                data_value = int(an_item)\n",
    "\n",
    "                # Appending variable value to list\n",
    "                a_list.append(data_value)\n",
    "                \n",
    "                # Increment column count\n",
    "                column_count += 1\n",
    "\n",
    "        # Assign column count to zero\n",
    "        column_count = 0\n",
    "        \n",
    "        # Assign a list to variable\n",
    "        list_value = a_list\n",
    "        \n",
    "        # Append list to list of lists\n",
    "        list_of_lists.append(list_value)\n",
    "\n",
    "        # Clear values from list and list temporary variable\n",
    "        a_list = []\n",
    "        list_value = []\n",
    "\n",
    "# Assign list of lists to sales list\n",
    "sales = list_of_lists\n"
   ]
  },
  {
   "cell_type": "code",
   "execution_count": 7,
   "metadata": {},
   "outputs": [],
   "source": [
    "# Initialize dict object to hold our key-value pairs of items and metrics\n",
    "report = {}\n"
   ]
  },
  {
   "cell_type": "code",
   "execution_count": 8,
   "metadata": {
    "tags": []
   },
   "outputs": [],
   "source": [
    "# Initialize a row counter variable\n",
    "row_count = 0\n"
   ]
  },
  {
   "cell_type": "code",
   "execution_count": 9,
   "metadata": {
    "tags": []
   },
   "outputs": [
    {
     "output_type": "stream",
     "name": "stdout",
     "text": "spicy miso ramen does not equal edamame! NO MATCH!\nspicy miso ramen does not equal house salad! NO MATCH!\nspicy miso ramen does not equal cucumber sunomono salad! NO MATCH!\nspicy miso ramen does not equal hiyashi wakame seaweed salad! NO MATCH!\nspicy miso ramen does not equal agedashi tofu! NO MATCH!\nspicy miso ramen does not equal hiyayakko tofu! NO MATCH!\nspicy miso ramen does not equal pork floss bao! NO MATCH!\nspicy miso ramen does not equal kakuni bao! NO MATCH!\nspicy miso ramen does not equal edamame fried gyoza (vegan)! NO MATCH!\nspicy miso ramen does not equal fried gyoza! NO MATCH!\nspicy miso ramen does not equal takoyaki! NO MATCH!\nspicy miso ramen does not equal rock shrimp tempura! NO MATCH!\nspicy miso ramen does not equal soft-shell crab tempura! NO MATCH!\nspicy miso ramen does not equal ebi katsu shrimp bao! NO MATCH!\nspicy miso ramen does not equal nagomi shoyu! NO MATCH!\nspicy miso ramen does not equal shio ramen! NO MATCH!\n"
    },
    {
     "output_type": "error",
     "ename": "TypeError",
     "evalue": "unsupported operand type(s) for -: 'str' and 'str'",
     "traceback": [
      "\u001b[1;31m---------------------------------------------------------------------------\u001b[0m",
      "\u001b[1;31mTypeError\u001b[0m                                 Traceback (most recent call last)",
      "\u001b[1;32m<ipython-input-9-1b2a6d30d14e>\u001b[0m in \u001b[0;36m<module>\u001b[1;34m\u001b[0m\n\u001b[0;32m     28\u001b[0m \u001b[1;33m\u001b[0m\u001b[0m\n\u001b[0;32m     29\u001b[0m             \u001b[1;31m# Profit calculation and assignment\u001b[0m\u001b[1;33m\u001b[0m\u001b[1;33m\u001b[0m\u001b[1;33m\u001b[0m\u001b[0m\n\u001b[1;32m---> 30\u001b[1;33m             \u001b[0mprofit\u001b[0m \u001b[1;33m=\u001b[0m \u001b[1;33m(\u001b[0m\u001b[0mprice\u001b[0m \u001b[1;33m-\u001b[0m \u001b[0mcost\u001b[0m\u001b[1;33m)\u001b[0m \u001b[1;33m*\u001b[0m \u001b[0mquantity\u001b[0m\u001b[1;33m\u001b[0m\u001b[1;33m\u001b[0m\u001b[0m\n\u001b[0m\u001b[0;32m     31\u001b[0m \u001b[1;33m\u001b[0m\u001b[0m\n\u001b[0;32m     32\u001b[0m             \u001b[1;31m# Print out matching menu data\u001b[0m\u001b[1;33m\u001b[0m\u001b[1;33m\u001b[0m\u001b[1;33m\u001b[0m\u001b[0m\n",
      "\u001b[1;31mTypeError\u001b[0m: unsupported operand type(s) for -: 'str' and 'str'"
     ]
    }
   ],
   "source": [
    "# @TODO: Loop over every row in the sales list object\n",
    "for sales_item in sales:\n",
    "\n",
    "    # Line_Item_ID,Date,Credit_Card_Number,Quantity,Menu_Item\n",
    "    # Initialize sales data variables\n",
    "    quantity = int(sales_item[3])\n",
    "    menu_item = sales_item[4]\n",
    "\n",
    "    # If the item value is not in the report, add it as a new entry with initialized metrics\n",
    "    # Naming convention allows the keys to be ordered in logical fashion, count, revenue, cost, profit\n",
    "    if menu_item not in report:\n",
    "        report[menu_item] = {\n",
    "            \"1-count\": 0,\n",
    "            \"2-revenue\": 0,\n",
    "            \"3-cogs\": 0,\n",
    "            \"4-profit\": 0,\n",
    "            }\n",
    "\n",
    "    # For every row in our sales data, loop over the menu records to determine a match\n",
    "    for item in menu:\n",
    "        # Item,Category,Description,Price,Cost\n",
    "        # Initialize menu data variables\n",
    "        item = item[0]\n",
    "        price = item[3]\n",
    "        cost = item[4]\n",
    "        # If the item value in our sales data is equal to any of the items in the menu, then begin tracking metrics for that item\n",
    "        if menu_item == item:\n",
    "            \n",
    "            # Profit calculation and assignment\n",
    "            profit = (price - cost) * quantity\n",
    "\n",
    "            # Print out matching menu data\n",
    "            print(menu_item[0])\n",
    "            \n",
    "            # Cumulatively add up the metrics for each item key\n",
    "            report[menu_item][\"01-count\"] += quantity\n",
    "            report[menu_item][\"02-revenue\"] += price * quantity\n",
    "            report[menu_item][\"03-cogs\"] += cost * quantity\n",
    "            report[menu_item][\"04-profit\"] += profit * quantity\n",
    "\n",
    "        # @TODO: Else, the sales item does not equal any of the item in the menu data, therefore no match\n",
    "        print(f\"{menu_item} does not equal {item}! NO MATCH!\")\n",
    "\n",
    "    # @TODO: Increment the row counter by 1\n",
    "    row_count += 1\n"
   ]
  },
  {
   "cell_type": "code",
   "execution_count": null,
   "metadata": {},
   "outputs": [],
   "source": [
    "\n",
    "# @TODO: Print total number of records in sales data\n",
    "print(row_count)\n",
    "\n",
    "# @TODO: Write out report to a text file (won't appear on the command line output)\n"
   ]
  }
 ]
}